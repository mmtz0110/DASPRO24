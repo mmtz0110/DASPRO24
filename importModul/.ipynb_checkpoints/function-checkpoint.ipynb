{
 "cells": [
  {
   "cell_type": "code",
   "execution_count": 2,
   "id": "f6f4506f-4c17-46a3-b390-41c11aea1f6a",
   "metadata": {},
   "outputs": [
    {
     "name": "stdout",
     "output_type": "stream",
     "text": [
      "Apa Kabs!!\n",
      "Apa Kabs!!\n"
     ]
    }
   ],
   "source": [
    "#Fungsi tanpa parameter\n",
    "def greeting():\n",
    "    print(\"Apa Kabs!!\")\n",
    "greeting()\n",
    "greeting()"
   ]
  },
  {
   "cell_type": "code",
   "execution_count": 5,
   "id": "79533e87-d218-4a56-bb51-7a4cbabc4a75",
   "metadata": {},
   "outputs": [
    {
     "name": "stdout",
     "output_type": "stream",
     "text": [
      "1 adalah Weekday\n",
      "Sekarang tanggal : 2025-05-27\n"
     ]
    }
   ],
   "source": [
    "import datetime\n",
    "def showDatetime():\n",
    "    today = datetime.date.today()\n",
    "    print(f\"Sekarang tanggal : {today}\")\n",
    "\n",
    "def isWeekend():\n",
    "    today = datetime.date.today().weekday()\n",
    "    if today < 5:\n",
    "        print(f\"{today} adalah Weekday\")\n",
    "    else:\n",
    "        print(f\"{today} adalah Weekend\")\n",
    "isWeekend()\n",
    "showDatetime()"
   ]
  },
  {
   "cell_type": "code",
   "execution_count": 10,
   "id": "ee6b61ec-ffab-4893-98d1-f1c01694c909",
   "metadata": {},
   "outputs": [
    {
     "name": "stdout",
     "output_type": "stream",
     "text": [
      "Agnaya Mumtazul Wafir\n",
      "Agnaya Mumtazul Wafir, S.Gpt\n"
     ]
    }
   ],
   "source": [
    "#Fungsi dengan parameter, tidak ada return value\n",
    "def getFullName(f,m,l):\n",
    "    print(f\"{f} {m} {l}\")\n",
    "getFullName(\"Agnaya\",\"Mumtazul\",\"Wafir\")\n",
    "\n",
    "#Fungsi dengan parameter, dan return value\n",
    "def getName(f,m,l):\n",
    "    return f\"{f} {m} {l}\"\n",
    "myname = getName(\"Agnaya\",\"Mumtazul\",\"Wafir\")\n",
    "title = \"S.Gpt\"\n",
    "print(f\"{myname}, {title}\")"
   ]
  },
  {
   "cell_type": "code",
   "execution_count": 13,
   "id": "4456e4f6-8efd-4855-9a99-1f4117109260",
   "metadata": {},
   "outputs": [
    {
     "name": "stdout",
     "output_type": "stream",
     "text": [
      "Hasil penjumlahan 5 dan 6 adalah: 11\n",
      "Hasil perkalian 10 kali 3 adalah: 30\n",
      "Hasil penjumlahan 11 dan 30 adalah: 41\n"
     ]
    }
   ],
   "source": [
    "#Fungsi Aritmatika\n",
    "def add(num1,num2):\n",
    "    return num1 + num2\n",
    "    \n",
    "def multiply(num1,num2):\n",
    "    return num1 * num2\n",
    "\n",
    "r1 = add(5,6) #11\n",
    "r2 = multiply(10,3) #30\n",
    "r3 = add(r1,r2) #41\n",
    "\n",
    "print(f\"Hasil penjumlahan 5 dan 6 adalah: {r1}\")\n",
    "print(f\"Hasil perkalian 10 kali 3 adalah: {r2}\")\n",
    "print(f\"Hasil penjumlahan {r1} dan {r2} adalah: {r3}\")"
   ]
  },
  {
   "cell_type": "code",
   "execution_count": 15,
   "id": "579824e6-cf91-4ee1-a73d-9b7f6097bc96",
   "metadata": {},
   "outputs": [
    {
     "name": "stdout",
     "output_type": "stream",
     "text": [
      "Hasil Tambah: 11\n",
      "Hasil Kali: 30\n"
     ]
    }
   ],
   "source": [
    "#Fungsi return lebih dari 1\n",
    "\n",
    "def aritmatik(num1,num2):\n",
    "    add = num1 + num2\n",
    "    multiply = num1 * num2\n",
    "    return add,multiply\n",
    "tambah,kali = aritmatik(5,6)\n",
    "print(f\"Hasil Tambah: {tambah}\")\n",
    "print(f\"Hasil Kali: {kali}\")"
   ]
  },
  {
   "cell_type": "code",
   "execution_count": 29,
   "id": "306c2e56-3bba-4105-a568-7847363a02ff",
   "metadata": {},
   "outputs": [
    {
     "name": "stdout",
     "output_type": "stream",
     "text": [
      "Registration is succeed\n",
      "Selamat Datang! admin\n",
      "Username: admin\n",
      "Password: 123456\n",
      "Email: admingg1234@gmail.com\n",
      "Status: Belum Aktif \n",
      "\n",
      "Registration is succeed\n",
      "Selamat Datang! admin\n",
      "Username: admin\n",
      "Password: 123456\n",
      "Email: admingg1234@gmail.com\n",
      "Status: Aktif \n",
      "\n",
      "Registration Failed. (Username must be more than 3 character) \n",
      "\n",
      "Registration Failed. (Password must be more than 5 character) \n",
      "\n"
     ]
    }
   ],
   "source": [
    "#Fungsi dengan nilai default\n",
    "def userRegistration(email, username, password, status=\"Belum Aktif\"):\n",
    "    result = \"\"\n",
    "    if(len(username)>3):\n",
    "        if(len(password)>5):\n",
    "            result += f\"Registration is succeed\\nSelamat Datang! {username}\\n\"\n",
    "            result += f\"Username: {username}\\n\"\n",
    "            result += f\"Password: {password}\\n\"\n",
    "            result += f\"Email: {email}\\n\"\n",
    "            result += f\"Status: {status}\"\n",
    "            return result\n",
    "        else:\n",
    "            return \"Registration Failed. (Password must be more than 5 character)\"    \n",
    "    else:\n",
    "        return \"Registration Failed. (Username must be more than 3 character)\"\n",
    "print(userRegistration(\"admingg1234@gmail.com\",\"admin\",\"123456\"),\"\\n\")\n",
    "print(userRegistration(\"admingg1234@gmail.com\",\"admin\",\"123456\",\"Aktif\"),\"\\n\")\n",
    "print(userRegistration(\"admingg1234@gmail.com\",\"adm\",\"123456\",\"Aktif\"),\"\\n\")\n",
    "print(userRegistration(\"admingg1234@gmail.com\",\"admin\",\"123\",\"Aktif\"),\"\\n\")"
   ]
  },
  {
   "cell_type": "code",
   "execution_count": 48,
   "id": "815498d6-66bd-415e-9894-ab17cd1113a8",
   "metadata": {},
   "outputs": [
    {
     "name": "stdout",
     "output_type": "stream",
     "text": [
      "Registration is succeed\n",
      "Selamat Datang! admin\n",
      "Username: admin\n",
      "Password: 123456\n",
      "Email: admingg1234@gmail.com\n",
      "Status: Belum Aktif \n",
      "\n",
      "Registration is succeed\n",
      "Selamat Datang! admin\n",
      "Username: admin\n",
      "Password: 123456\n",
      "Email: admingg1234@gmail.com\n",
      "Status: Aktif \n",
      "\n",
      "Registration Failed. (Username must be more than 3 character)\n",
      " \n",
      "\n",
      "Registration Failed. (Password must be more than 5 character) \n",
      "\n",
      "Registration Failed. (Username must be more than 3 character)\n",
      "Registration Failed. (Password must be more than 5 character) \n",
      "\n"
     ]
    }
   ],
   "source": [
    "#Fungsi dengan nilai default\n",
    "def userRegistration(email, username, password, status=\"Belum Aktif\"):\n",
    "    result = \"\"\n",
    "    temp = 1\n",
    "    if(len(username)<=3):\n",
    "        print (\"Registration Failed. (Username must be more than 3 character)\")\n",
    "        temp = 0\n",
    "    if(len(password)>5 and temp == 0):\n",
    "        return \"\"\n",
    "    elif(len(password)>5 and temp == 1):\n",
    "        result += f\"Registration is succeed\\nSelamat Datang! {username}\\n\"\n",
    "        result += f\"Username: {username}\\n\"\n",
    "        result += f\"Password: {password}\\n\"\n",
    "        result += f\"Email: {email}\\n\"\n",
    "        result += f\"Status: {status}\"\n",
    "        return result\n",
    "    else:\n",
    "        return \"Registration Failed. (Password must be more than 5 character)\"    \n",
    "print(userRegistration(\"admingg1234@gmail.com\",\"admin\",\"123456\"),\"\\n\")\n",
    "print(userRegistration(\"admingg1234@gmail.com\",\"admin\",\"123456\",\"Aktif\"),\"\\n\")\n",
    "print(userRegistration(\"admingg1234@gmail.com\",\"adm\",\"123456\",\"Aktif\"),\"\\n\")\n",
    "print(userRegistration(\"admingg1234@gmail.com\",\"admin\",\"123\",\"Aktif\"),\"\\n\")\n",
    "print(userRegistration(\"admingg1234@gmail.com\",\"adm\",\"123\",\"Aktif\"),\"\\n\")"
   ]
  },
  {
   "cell_type": "code",
   "execution_count": 51,
   "id": "efda9764-883f-47ae-8fbd-972ff1071246",
   "metadata": {},
   "outputs": [
    {
     "name": "stdin",
     "output_type": "stream",
     "text": [
      "Angka 1:  12\n",
      "Angka 2:  12\n"
     ]
    },
    {
     "name": "stdout",
     "output_type": "stream",
     "text": [
      "24\n",
      "144\n",
      "8916100448256\n"
     ]
    }
   ],
   "source": [
    "import aritmatika.math as math\n",
    "angka1 = int(input(\"Angka 1: \"))\n",
    "angka2 = int(input(\"Angka 2: \"))\n",
    "\n",
    "r1 = math.add(angka1,angka2)\n",
    "r2 = math.multiply(angka1,angka2)\n",
    "r3 = math.pow(angka1,angka2)\n",
    "\n",
    "print(r1)\n",
    "print(r2)\n",
    "print(r3)"
   ]
  },
  {
   "cell_type": "code",
   "execution_count": 52,
   "id": "d90f0b82-2794-46ab-948e-c942171e4151",
   "metadata": {},
   "outputs": [
    {
     "name": "stdin",
     "output_type": "stream",
     "text": [
      "Isikan panjang dalam meter:  5\n",
      "Isikan panjang dalam centimeter:  5\n"
     ]
    },
    {
     "name": "stdout",
     "output_type": "stream",
     "text": [
      "Panjang dalam cm: 500\n",
      "Panjang dalam m: 0.05\n"
     ]
    }
   ],
   "source": [
    "from konversi.convert import cmToMeter\n",
    "meter = int(input(\"Isikan panjang dalam meter: \"))\n",
    "cm = int(input(\"Isikan panjang dalam centimeter: \"))\n",
    "\n",
    "r1 = meterToCm(meter)\n",
    "r2 = cmToMeter(cm)\n",
    "print(f\"Panjang dalam cm: {r1}\")\n",
    "print(f\"Panjang dalam m: {r2}\")"
   ]
  },
  {
   "cell_type": "code",
   "execution_count": null,
   "id": "5d3092f8-b4b3-4b09-978f-50eb766b0748",
   "metadata": {},
   "outputs": [],
   "source": []
  }
 ],
 "metadata": {
  "kernelspec": {
   "display_name": "Python 3 (ipykernel)",
   "language": "python",
   "name": "python3"
  },
  "language_info": {
   "codemirror_mode": {
    "name": "ipython",
    "version": 3
   },
   "file_extension": ".py",
   "mimetype": "text/x-python",
   "name": "python",
   "nbconvert_exporter": "python",
   "pygments_lexer": "ipython3",
   "version": "3.11.11"
  }
 },
 "nbformat": 4,
 "nbformat_minor": 5
}
