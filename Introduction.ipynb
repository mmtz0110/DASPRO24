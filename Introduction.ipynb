{
 "cells": [
  {
   "cell_type": "markdown",
   "id": "97d9304a-c446-4907-8344-54233ee0ec2b",
   "metadata": {},
   "source": [
    "<img src=\"https://www.tng-project.org/static/data/lab_logo_tng.png\" width=\"200\">\n",
    "<br><b>Jenis cell di JupyterLab ada 2:</b>\n",
    "<ol>\n",
    "    <li>Mark Down (M)</li>\n",
    "    <li>Code (Y)</li>\n",
    "</ol> <hr>"
   ]
  },
  {
   "cell_type": "markdown",
   "id": "1a0830ba-04cf-4f8a-8a87-da07f250ca82",
   "metadata": {},
   "source": [
    "Cara menambah cell ada 2:\n",
    "<ul>\n",
    "    <li>Above (A)</li>\n",
    "    <li>Below (B)</li>\n",
    "</ul>\n",
    "\n",
    "<table>\n",
    "    <tr>\n",
    "        <th>PERINTAH</th>\n",
    "        <th>KETERANGAN</th>\n",
    "    </tr>\n",
    "    <tr>\n",
    "        <td>CTRL + ENTER</td>\n",
    "        <td>Running dan fokus di celll</td>\n",
    "    </tr>\n",
    "    <tr>\n",
    "        <td>SHIFT + ENTER</td>\n",
    "        <td>Running dan fokus di cell berikutnya</td>\n",
    "    </tr>\n",
    "</table>"
   ]
  },
  {
   "cell_type": "code",
   "execution_count": 84,
   "id": "1d7ccec4-d681-44c8-94f9-450732821656",
   "metadata": {},
   "outputs": [
    {
     "name": "stdout",
     "output_type": "stream",
     "text": [
      "Hello Python!!\n",
      "5\n",
      "sekarang hari jum'at\n",
      "deklarasikan variabel 'A'\n",
      "15\n",
      "10\n"
     ]
    },
    {
     "data": {
      "text/plain": [
       "'10'"
      ]
     },
     "execution_count": 84,
     "metadata": {},
     "output_type": "execute_result"
    }
   ],
   "source": [
    "print(\"Hello Python!!\")\n",
    "data = 5\n",
    "data2 = \"10\"\n",
    "print(data)\n",
    "print(\"sekarang hari jum'at\")\n",
    "print(\"deklarasikan variabel 'A'\")\n",
    "print(data + int(data2))\n",
    "print(data2)\n",
    "data2"
   ]
  },
  {
   "cell_type": "code",
   "execution_count": null,
   "id": "8660632d-2685-442e-ae08-582fb88a1554",
   "metadata": {},
   "outputs": [],
   "source": []
  }
 ],
 "metadata": {
  "kernelspec": {
   "display_name": "Python 3 (ipykernel)",
   "language": "python",
   "name": "python3"
  },
  "language_info": {
   "codemirror_mode": {
    "name": "ipython",
    "version": 3
   },
   "file_extension": ".py",
   "mimetype": "text/x-python",
   "name": "python",
   "nbconvert_exporter": "python",
   "pygments_lexer": "ipython3",
   "version": "3.12.9"
  }
 },
 "nbformat": 4,
 "nbformat_minor": 5
}
