{
 "cells": [
  {
   "cell_type": "markdown",
   "id": "087a13e0-693d-4f7e-9124-75b7859efbb2",
   "metadata": {},
   "source": [
    "<h1><b>Operator Aritmatika</b></h1>"
   ]
  },
  {
   "cell_type": "code",
   "execution_count": 12,
   "id": "ba1eca26-64da-485e-b9c5-b762c5fdcac3",
   "metadata": {},
   "outputs": [
    {
     "name": "stdin",
     "output_type": "stream",
     "text": [
      "Masukkan input x:  1\n",
      "Masukkan input y:  2\n"
     ]
    },
    {
     "name": "stdout",
     "output_type": "stream",
     "text": [
      "Hasil Penjumlahan 1 + 2 = 3\n",
      "Hasil Pengurangan 1 - 2 = -1\n",
      "Hasil Perkalian 1 * 2 = 2\n",
      "Hasil Pembagian 1 / 2 = 0.5\n",
      "Hasil Modulus 1 % 2 = 1\n",
      "Hasil Pangkat 1 ^ 2 = 1\n",
      "Hasil Pembagian Bulat 1 // 2 = 0\n"
     ]
    }
   ],
   "source": [
    "x = int(input(\"Masukkan input x: \"))\n",
    "y = int(input(\"Masukkan input y: \"))\n",
    "        \n",
    "hasilTambah = x + y\n",
    "hasilKurang = x - y\n",
    "hasilKali = x * y\n",
    "hasilBagi = x / y\n",
    "hasilMod = x % y\n",
    "hasilPangkat = x ** y\n",
    "hasilDiv = x // y\n",
    "print(\"Hasil Penjumlahan\",x,\"+\",y,\"=\",hasilTambah)\n",
    "print(\"Hasil Pengurangan\",x,\"-\",y,\"=\",hasilKurang)\n",
    "print(\"Hasil Perkalian\",x,\"*\",y,\"=\",hasilKali)\n",
    "print(\"Hasil Pembagian\",x,\"/\",y,\"=\",hasilBagi)\n",
    "print(\"Hasil Modulus\",x,\"%\",y,\"=\",hasilMod)\n",
    "print(\"Hasil Pangkat\",x,\"^\",y,\"=\",hasilPangkat)\n",
    "print(\"Hasil Pembagian Bulat\",x,\"//\",y,\"=\",hasilDiv)"
   ]
  },
  {
   "cell_type": "markdown",
   "id": "1fd775e2-8e13-49cb-bd53-ed632718cc69",
   "metadata": {},
   "source": [
    "<h1><b>Operator Penugasan</b></h1>"
   ]
  },
  {
   "cell_type": "code",
   "execution_count": 14,
   "id": "fee1b9f9-a70f-4e0f-b3d1-cb99d3583d31",
   "metadata": {},
   "outputs": [
    {
     "name": "stdin",
     "output_type": "stream",
     "text": [
      "Masukan nilai awal:  5\n"
     ]
    },
    {
     "name": "stdout",
     "output_type": "stream",
     "text": [
      "Nilai Awal: 5\n",
      "Setelah ditambah dengan 3 = 8\n",
      "Setelah dikurang dengan 5 = 3\n",
      "Setelah dikali dengan 3 = 9\n",
      "Proses terakhir dibagi dengan 2 = 4.5\n"
     ]
    }
   ],
   "source": [
    "nilaiAwal = int(input(\"Masukan nilai awal: \"))\n",
    "\n",
    "print(\"Nilai Awal:\",nilaiAwal)\n",
    "nilaiAwal+=3\n",
    "print(\"Setelah ditambah dengan 3 =\",nilaiAwal)\n",
    "nilaiAwal-=5\n",
    "print(\"Setelah dikurang dengan 5 =\",nilaiAwal)\n",
    "nilaiAwal*=3\n",
    "print(\"Setelah dikali dengan 3 =\",nilaiAwal)\n",
    "nilaiAwal/=2\n",
    "print(\"Proses terakhir dibagi dengan 2 =\",nilaiAwal)"
   ]
  },
  {
   "cell_type": "markdown",
   "id": "4d719dce-dd51-4801-aee9-e38d96a28d17",
   "metadata": {},
   "source": [
    "<h1><b>Operator Perbandingan</b></h1>"
   ]
  },
  {
   "cell_type": "code",
   "execution_count": 5,
   "id": "78b924e2-3f5d-4ec5-9bad-857b295725a9",
   "metadata": {},
   "outputs": [
    {
     "name": "stdin",
     "output_type": "stream",
     "text": [
      "Isikan Nilai fVal:  58\n",
      "Isikan Nilai sVal:  8\n"
     ]
    },
    {
     "name": "stdout",
     "output_type": "stream",
     "text": [
      "58 = 8 : False\n",
      "58 != 8 : True\n",
      "58 > 8 : True\n",
      "58 < 8 : False\n",
      "58 >= 8 : True\n",
      "58 <= 8 : False\n"
     ]
    }
   ],
   "source": [
    "fVal = int(input(\"Isikan Nilai fVal: \"))\n",
    "sVal = int(input(\"Isikan Nilai sVal: \"))\n",
    "\n",
    "print(fVal,\"=\",sVal,\":\",fVal==sVal)\n",
    "print(fVal,\"!=\",sVal,\":\",fVal!=sVal)\n",
    "print(fVal,\">\",sVal,\":\",fVal>sVal)\n",
    "print(fVal,\"<\",sVal,\":\",fVal<sVal)\n",
    "print(fVal,\">=\",sVal,\":\",fVal>=sVal)\n",
    "print(fVal,\"<=\",sVal,\":\",fVal<=sVal)"
   ]
  },
  {
   "cell_type": "markdown",
   "id": "dc77b114-b92c-4626-a2ec-19c45df11fd8",
   "metadata": {},
   "source": [
    "<h1>Operator Logika</h1>"
   ]
  },
  {
   "cell_type": "code",
   "execution_count": 11,
   "id": "f43ece3c-1c00-4638-8a73-06a5b190360c",
   "metadata": {},
   "outputs": [
    {
     "name": "stdin",
     "output_type": "stream",
     "text": [
      "Isikan Bilangan 1:  6\n",
      "Isikan Bilangan 2:  8\n"
     ]
    },
    {
     "name": "stdout",
     "output_type": "stream",
     "text": [
      "Bilangan 1: 6\n",
      "Bilangan 2: 8\n",
      "Apakah Bilangan 1 mod 2 = 0 dan Bilangan 2 lebih besar dari 3? True\n",
      "Apakah Bilangan 1 mod 2 = 0 atau Bilangan 2 lebih besar dari 3? True\n",
      "Apakah Bilangan 1 mod 2 = 0 tidak atau Bilangan 2 lebih besar dari 3? False\n"
     ]
    }
   ],
   "source": [
    "num1 = int(input(\"Isikan Bilangan 1: \"))\n",
    "num2 = int(input(\"Isikan Bilangan 2: \"))\n",
    "\n",
    "print(\"Bilangan 1:\",num1)\n",
    "print(\"Bilangan 2:\",num2)\n",
    "\n",
    "print(\"Apakah Bilangan 1 mod 2 = 0 dan Bilangan 2 lebih besar dari 3?\",num1 % 2==0 and num2 > 3)\n",
    "print(\"Apakah Bilangan 1 mod 2 = 0 atau Bilangan 2 lebih besar dari 3?\",num1 % 2==0 or num2 > 3)\n",
    "print(\"Apakah Bilangan 1 mod 2 = 0 tidak atau Bilangan 2 lebih besar dari 3?\",not(num1 % 2==0 or num2 > 3))"
   ]
  },
  {
   "cell_type": "markdown",
   "id": "f5d7c5c7-34b1-4309-909b-4f201a8d48d6",
   "metadata": {},
   "source": [
    "<h1>Operator Identitas</h1>"
   ]
  },
  {
   "cell_type": "code",
   "execution_count": 16,
   "id": "328a6380-ef17-474f-9906-6f8f9d4cb674",
   "metadata": {},
   "outputs": [
    {
     "name": "stdout",
     "output_type": "stream",
     "text": [
      "True\n",
      "False\n",
      "True\n",
      "Memory Address dari val1 136465259546112\n",
      "Memory Address dari val2 9771880\n",
      "Memory Address dari val3 9771880\n"
     ]
    },
    {
     "name": "stderr",
     "output_type": "stream",
     "text": [
      "<>:1: SyntaxWarning: \"is\" with 'str' literal. Did you mean \"==\"?\n",
      "<>:1: SyntaxWarning: \"is\" with 'str' literal. Did you mean \"==\"?\n",
      "/tmp/ipykernel_8490/2537743515.py:1: SyntaxWarning: \"is\" with 'str' literal. Did you mean \"==\"?\n",
      "  print(\"Desur\" is \"Desur\")\n"
     ]
    }
   ],
   "source": [
    "print(\"Desur\" is \"Desur\")\n",
    "val1 = \"10\"\n",
    "val2 = 10\n",
    "val3 = val2\n",
    "print(val1 is val2)\n",
    "print(val1 is not val2)\n",
    "\n",
    "print(\"Memory Address dari val1\",id(val1))\n",
    "print(\"Memory Address dari val2\",id(val2))\n",
    "print(\"Memory Address dari val3\",id(val3))"
   ]
  },
  {
   "cell_type": "markdown",
   "id": "702525dd-8fe3-4fed-97d7-8ead021b2e64",
   "metadata": {},
   "source": [
    "<h1>Operator Keanggotaan</h1>"
   ]
  },
  {
   "cell_type": "code",
   "execution_count": 21,
   "id": "ab39d98b-4622-433f-9665-74703e5e0bb5",
   "metadata": {},
   "outputs": [
    {
     "name": "stdout",
     "output_type": "stream",
     "text": [
      "True\n",
      "False\n"
     ]
    }
   ],
   "source": [
    "find = \"Budi\"\n",
    "daftarMahasiswa = [\"Rudi\",\"Deni\",\"Nana\",\"Budi\"]\n",
    "\n",
    "print(find in daftarMahasiswa)\n",
    "print(find not in daftarMahasiswa)"
   ]
  },
  {
   "cell_type": "markdown",
   "id": "11bfa36e-94e2-4386-baf6-42fea648ebff",
   "metadata": {},
   "source": [
    "<h1>Operator Bitwise</h1>"
   ]
  },
  {
   "cell_type": "code",
   "execution_count": 22,
   "id": "06545a5a-cab9-41af-a57e-0aee0bfc621f",
   "metadata": {},
   "outputs": [
    {
     "name": "stdin",
     "output_type": "stream",
     "text": [
      "Isikan Nilai 1:  64\n",
      "Isikan Nilai 2:  3\n"
     ]
    },
    {
     "name": "stdout",
     "output_type": "stream",
     "text": [
      "0\n",
      "67\n",
      "67\n",
      "512\n",
      "8\n"
     ]
    }
   ],
   "source": [
    "desimal1 = int(input(\"Isikan Nilai 1: \"))\n",
    "desimal2 = int(input(\"Isikan Nilai 2: \"))\n",
    "\n",
    "print(desimal1 & desimal2)\n",
    "print(desimal1 | desimal2)\n",
    "print(desimal1 ^ desimal2)\n",
    "print(desimal1 << desimal2)\n",
    "print(desimal1 >> desimal2)"
   ]
  },
  {
   "cell_type": "code",
   "execution_count": null,
   "id": "0781f0ea-2d19-4b86-ab16-908650cb3499",
   "metadata": {},
   "outputs": [],
   "source": []
  }
 ],
 "metadata": {
  "kernelspec": {
   "display_name": "Python 3 (ipykernel)",
   "language": "python",
   "name": "python3"
  },
  "language_info": {
   "codemirror_mode": {
    "name": "ipython",
    "version": 3
   },
   "file_extension": ".py",
   "mimetype": "text/x-python",
   "name": "python",
   "nbconvert_exporter": "python",
   "pygments_lexer": "ipython3",
   "version": "3.12.9"
  }
 },
 "nbformat": 4,
 "nbformat_minor": 5
}
