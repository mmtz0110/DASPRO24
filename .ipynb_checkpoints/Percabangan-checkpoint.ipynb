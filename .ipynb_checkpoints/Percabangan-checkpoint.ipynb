{
 "cells": [
  {
   "cell_type": "code",
   "execution_count": 5,
   "id": "67da1f84-9d76-4320-afd9-c9259f9d17ce",
   "metadata": {},
   "outputs": [
    {
     "name": "stdin",
     "output_type": "stream",
     "text": [
      "Masukan Umur Anda:  7\n"
     ]
    },
    {
     "name": "stdout",
     "output_type": "stream",
     "text": [
      "Kategori: Anak\n"
     ]
    }
   ],
   "source": [
    "usia = int(input(\"Masukan Umur Anda: \"))\n",
    "\n",
    "if usia >= 1:\n",
    "    if usia <= 12:\n",
    "        print(\"Kategori: Anak\")\n",
    "    elif usia <= 17:\n",
    "        print(\"Kategori: Remaja\")\n",
    "    elif usia <= 59:\n",
    "        print(\"Kategori: Dewasa\")\n",
    "    else:\n",
    "        print(\"Kategori: Lansia\")\n",
    "else:\n",
    "    print(\"Dalam Perencanaan Tuhan\")"
   ]
  },
  {
   "cell_type": "code",
   "execution_count": 12,
   "id": "2a9ed069-a9c6-4964-a647-a5fa05800bc5",
   "metadata": {},
   "outputs": [
    {
     "name": "stdin",
     "output_type": "stream",
     "text": [
      "Masukan umur tiket 1:  12\n",
      "Masukan umur tiket 2:  54\n",
      "Masukan umur tiket 3:  33\n"
     ]
    },
    {
     "name": "stdout",
     "output_type": "stream",
     "text": [
      "tiket 1 = 10.000\n",
      "tiket 2 = 25.000\n",
      "tiket 3 = 25.000\n",
      "Jadi total biaya yg diperlukan untuk tiket masuk adalah: 60000\n"
     ]
    }
   ],
   "source": [
    "tiket1 = int(input(\"Masukan umur tiket 1: \"))\n",
    "tiket2 = int(input(\"Masukan umur tiket 2: \"))\n",
    "tiket3 = int(input(\"Masukan umur tiket 3: \"))\n",
    "totalBiaya = 0\n",
    "\n",
    "if tiket1 >= 1:\n",
    "    if tiket1 <= 12:\n",
    "        print(\"tiket 1 = 10.000\")\n",
    "        totalBiaya = totalBiaya + 10000\n",
    "    elif tiket1 <= 17:\n",
    "        print(\"tiket 1 = 15.000\")\n",
    "        totalBiaya = totalBiaya + 15000\n",
    "    elif tiket1 <= 59:\n",
    "        print(\"tiket 1 = 25.000\")\n",
    "        totalBiaya = totalBiaya + 25000\n",
    "    else:\n",
    "        print(\"tiket 1 = Gratis\")\n",
    "        totalBiaya = totalBiaya + 0\n",
    "else:\n",
    "    print(\"Dalam Perencanaan Tuhan\")\n",
    "\n",
    "if tiket2 >= 1:\n",
    "    if tiket2 <= 12:\n",
    "        print(\"tiket 2 = 10.000\")\n",
    "        totalBiaya = totalBiaya + 10000\n",
    "    elif tiket2 <= 17:\n",
    "        print(\"tiket 2 = 15.000\")\n",
    "        totalBiaya = totalBiaya + 15000\n",
    "    elif tiket2 <= 59:\n",
    "        print(\"tiket 2 = 25.000\")\n",
    "        totalBiaya = totalBiaya + 25000\n",
    "    else:\n",
    "        print(\"tiket 2 = Gratis\")\n",
    "        totalBiaya = totalBiaya + 0\n",
    "else:\n",
    "    print(\"Dalam Perencanaan Tuhan\")\n",
    "\n",
    "if tiket3 >= 1:\n",
    "    if tiket3 <= 12:\n",
    "        print(\"tiket 3 = 10.000\")\n",
    "        totalBiaya = totalBiaya + 10000\n",
    "    elif tiket3 <= 17:\n",
    "        print(\"tiket 3 = 15.000\")\n",
    "        totalBiaya = totalBiaya + 15000\n",
    "    elif tiket3 <= 59:\n",
    "        print(\"tiket 3 = 25.000\")\n",
    "        totalBiaya = totalBiaya + 25000\n",
    "    else:\n",
    "        print(\"tiket 3 = Gratis\")\n",
    "        totalBiaya = totalBiaya + 0\n",
    "else:\n",
    "    print(\"Dalam Perencanaan Tuhan\")\n",
    "\n",
    "print(f\"Jadi total biaya yg diperlukan untuk tiket masuk adalah: {totalBiaya}\")"
   ]
  },
  {
   "cell_type": "code",
   "execution_count": 14,
   "id": "5493c635-bc80-446d-8af0-6e948b719435",
   "metadata": {},
   "outputs": [
    {
     "name": "stdin",
     "output_type": "stream",
     "text": [
      "Masukan nilai rapor:  90\n",
      "Masukan penghasilan ortu:  330000\n"
     ]
    },
    {
     "name": "stdout",
     "output_type": "stream",
     "text": [
      "Mendapatkan beasiswa penuh\n"
     ]
    }
   ],
   "source": [
    "nilaiRapor = int(input(\"Masukan nilai rapor: \"))\n",
    "penghasilan = int(input(\"Masukan penghasilan ortu: \"))\n",
    "\n",
    "if nilaiRapor >= 90 and penghasilan < 5_000_000:\n",
    "    print(\"Mendapatkan beasiswa penuh\")\n",
    "elif nilaiRapor >= 85 and penghasilan < 8_000_000:\n",
    "    print(\"Mendapatkan beasiswa 50%\")\n",
    "else:\n",
    "    print(\"Tidak mendapatkan beasiswa\")"
   ]
  },
  {
   "cell_type": "code",
   "execution_count": 18,
   "id": "ceb9f6d0-e687-4634-84ad-04b779ac6b6f",
   "metadata": {},
   "outputs": [
    {
     "name": "stdin",
     "output_type": "stream",
     "text": [
      "Masukan motor/mobil:  mobil\n",
      "Jam Masuk:  3\n",
      "Jam Keluar:  5\n"
     ]
    },
    {
     "name": "stdout",
     "output_type": "stream",
     "text": [
      "Tarif mobil: 5000\n",
      "Lama Parkir: 2 jam\n",
      "Total Tarif Parkir: 10000\n"
     ]
    }
   ],
   "source": [
    "jenisKendaraan = input(\"Masukan motor/mobil: \")\n",
    "jamMasuk = int(input(\"Jam Masuk: \"))\n",
    "jamKeluar = int(input(\"Jam Keluar: \"))\n",
    "\n",
    "tarifPerjam = 0\n",
    "if jenisKendaraan == \"motor\":\n",
    "    tarifPerjam = 2000\n",
    "elif jenisKendaraan == \"mobil\":\n",
    "    tarifPerjam = 5000\n",
    "else:\n",
    "    print(\"Tidak menerima selain mobil atau motor\")\n",
    "\n",
    "if jamMasuk >= jamKeluar:\n",
    "    print(\"Input Jam Masuk/Jam Keluar Salah!\")\n",
    "else:\n",
    "    totalTarif = (jamKeluar - jamMasuk)*tarifPerjam\n",
    "\n",
    "print(f\"Tarif {jenisKendaraan}: {tarifPerjam}\")\n",
    "print(f\"Lama Parkir: {jamKeluar-jamMasuk} jam\")\n",
    "print(f\"Total Tarif Parkir: {totalTarif}\")"
   ]
  },
  {
   "cell_type": "code",
   "execution_count": 20,
   "id": "fd258a87-9157-42d6-8401-78e9f3ae86b8",
   "metadata": {},
   "outputs": [
    {
     "name": "stdin",
     "output_type": "stream",
     "text": [
      "Nomor Punggung:  10\n"
     ]
    },
    {
     "name": "stdout",
     "output_type": "stream",
     "text": [
      "Kamu mempunyai pilihan posisi: Target Attacker, \n"
     ]
    }
   ],
   "source": [
    "nomorPunggung = int(input(\"Nomor Punggung: \"))\n",
    "posisi = \"\"\n",
    "if nomorPunggung % 2 == 0:\n",
    "    posisi += \"Target Attacker, \"\n",
    "    if nomorPunggung >= 50 and nomorPunggung <= 100:\n",
    "        posisi += \"Berhak dipilih menjadi Captain, \"\n",
    "else:\n",
    "    posisi += \"Defender, \"\n",
    "    if nomorPunggung > 90:\n",
    "        posisi += \"Playmaker\"\n",
    "    if nomorPunggung % 3 == 0 and nomorPunggung % 5 == 0:\n",
    "        posisi += \"Keeper\"\n",
    "print(f\"Kamu mempunyai pilihan posisi: {posisi}\")\n"
   ]
  },
  {
   "cell_type": "code",
   "execution_count": 23,
   "id": "a4405152-bbda-4c89-90cb-764e44ceac36",
   "metadata": {},
   "outputs": [
    {
     "name": "stdin",
     "output_type": "stream",
     "text": [
      "Masukkan nilai coding (0-100):  82\n",
      "Masukkan nilai interview (A/B/C/dll):  b\n"
     ]
    },
    {
     "name": "stdout",
     "output_type": "stream",
     "text": [
      "Selamat Kamu Berhasil Menjadi Calon Programmer\n"
     ]
    }
   ],
   "source": [
    "nilaiCoding = int(input(\"Masukkan nilai coding (0-100): \"))\n",
    "nilaiInterview = input(\"Masukkan nilai interview (A/B/C/dll): \").upper()\n",
    "\n",
    "if nilaiCoding > 80:\n",
    "    hasilCoding = \"LOLOS\"\n",
    "elif 60 <= nilaiCoding <= 80:\n",
    "    hasilCoding = \"DIPERTIMBANGKAN\"\n",
    "else:\n",
    "    hasilCoding = \"GAGAL\"\n",
    "\n",
    "if nilaiInterview == \"A\" or nilaiInterview == \"B\":\n",
    "    hasilInterview = \"LOLOS\"\n",
    "else:\n",
    "    hasilInterview = \"GAGAL\"\n",
    "\n",
    "if (hasilCoding == \"LOLOS\" or hasilCoding == \"DIPERTIMBANGKAN\") and hasilInterview == \"LOLOS\":\n",
    "    print(\"Selamat Kamu Berhasil Menjadi Calon Programmer\")\n",
    "else:\n",
    "    print(\"Maaf Kamu Belum Berhasil Menjadi Calon Programmer\")"
   ]
  },
  {
   "cell_type": "code",
   "execution_count": null,
   "id": "24863618-5ad0-45d2-b358-c210e77c779a",
   "metadata": {},
   "outputs": [],
   "source": []
  }
 ],
 "metadata": {
  "kernelspec": {
   "display_name": "Python 3 (ipykernel)",
   "language": "python",
   "name": "python3"
  },
  "language_info": {
   "codemirror_mode": {
    "name": "ipython",
    "version": 3
   },
   "file_extension": ".py",
   "mimetype": "text/x-python",
   "name": "python",
   "nbconvert_exporter": "python",
   "pygments_lexer": "ipython3",
   "version": "3.13.2"
  }
 },
 "nbformat": 4,
 "nbformat_minor": 5
}
