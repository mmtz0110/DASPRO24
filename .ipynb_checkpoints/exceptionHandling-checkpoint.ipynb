{
 "cells": [
  {
   "cell_type": "code",
   "execution_count": null,
   "id": "3c055d2b-a97c-4785-9773-8d7e1eeee2f7",
   "metadata": {},
   "outputs": [],
   "source": [
    "try:\n",
    "    #kdoe yg mungkin error\n",
    "except JenisError:\n",
    "    #kode jika error terjadi\n",
    "else:\n",
    "    #kode jika, tidak terjadi error\n",
    "finally:\n",
    "    #kode untuk keputusan terakhir jika terjadi error"
   ]
  },
  {
   "cell_type": "code",
   "execution_count": 18,
   "id": "31b2ab90-e537-49ad-a5e5-8f65301dd961",
   "metadata": {},
   "outputs": [
    {
     "name": "stdin",
     "output_type": "stream",
     "text": [
      "Angka 1:  7\n",
      "Angka 2:  0\n",
      "Operator +, -, *, / :  /\n"
     ]
    },
    {
     "name": "stdout",
     "output_type": "stream",
     "text": [
      "Terdapat kesalahan division by zero\n",
      "Program sudah selesai berjalan!\n"
     ]
    }
   ],
   "source": [
    "hasil = 0\n",
    "try:\n",
    "    num1 = int(input(\"Angka 1: \"))\n",
    "    num2 = int(input(\"Angka 2: \"))\n",
    "    operator = input(\"Operator +, -, *, / : \")\n",
    "    if operator == \"+\":\n",
    "        hasil = num1 + num2\n",
    "    elif operator == \"-\":\n",
    "        hasil = num1 - num2\n",
    "    elif operator == \"*\":\n",
    "        hasil = num1 * num2\n",
    "    elif operator == \"/\":\n",
    "        hasil = num1 / num2\n",
    "    else:\n",
    "        print(f\"operator {operator} tidak valid\")\n",
    "        \n",
    "except (ZeroDivisionError,ValueError) as err:\n",
    "    print(\"Terdapat kesalahan: \", err)\n",
    "else:\n",
    "    print(f\"Hasil dari {num1} {operator} {num2} adalah: {hasil}\")\n",
    "\n",
    "finally:\n",
    "    print(f\"Program sudah selesai berjalan!\")"
   ]
  },
  {
   "cell_type": "code",
   "execution_count": 24,
   "id": "4c211946-7f6c-45aa-941e-9c6cb1f2ff3f",
   "metadata": {},
   "outputs": [
    {
     "name": "stdin",
     "output_type": "stream",
     "text": [
      "Banyak Data:  3\n",
      "Masukan Nilai Siswa:  98\n",
      "Masukan Nilai Siswa:  89\n",
      "Masukan Nilai Siswa:  88\n",
      "Tampilkan urutan ke berapa:  4\n"
     ]
    },
    {
     "name": "stdout",
     "output_type": "stream",
     "text": [
      "Data tidak tersedia!\n",
      "Load data selesai!\n"
     ]
    }
   ],
   "source": [
    "#IndexError\n",
    "data = []\n",
    "try:\n",
    "    jumlahData = int(input(\"Banyak Data: \"))\n",
    "    for i in range (jumlahData):\n",
    "        nilai = int(input(\"Masukan Nilai Siswa: \"))\n",
    "        data.append(nilai)\n",
    "    showData = int(input(\"Tampilkan urutan ke berapa: \"))\n",
    "    hasil = print(data[showData - 1])\n",
    "except ValueError:\n",
    "    print(\"Input harus angka!\")\n",
    "except IndexError:\n",
    "    print(\"Data tidak tersedia!\")\n",
    "else:\n",
    "    print(hasil)\n",
    "finally:\n",
    "    print(\"Load data selesai!\")"
   ]
  },
  {
   "cell_type": "code",
   "execution_count": 29,
   "id": "b632852c-828d-425d-9561-5c1ca95b186d",
   "metadata": {},
   "outputs": [
    {
     "name": "stdin",
     "output_type": "stream",
     "text": [
      "Masukan umur:  80\n"
     ]
    },
    {
     "name": "stdout",
     "output_type": "stream",
     "text": [
      "Umur anda valid!\n",
      "Program cek umur telah selesai\n"
     ]
    }
   ],
   "source": [
    "#Custom Exception\n",
    "#Tiket film, umur harus > 17\n",
    "\n",
    "class UmurException(Exception):\n",
    "    pass\n",
    "\n",
    "def checkUmur(umur):\n",
    "    if umur < 17 and umur > 70:\n",
    "        raise UmurException(\"Umur harus diatas 16 tahun!\")\n",
    "try:\n",
    "    umur = int(input(\"Masukan umur: \"))\n",
    "    checkUmur(umur)\n",
    "    \n",
    "except (UmurException, ValueError) as err:\n",
    "    print(\"Terjadi kesalahan: \", err)\n",
    "else:\n",
    "    print(\"Umur anda valid!\")\n",
    "finally:\n",
    "    print(\"Program cek umur telah selesai\")\n"
   ]
  },
  {
   "cell_type": "code",
   "execution_count": 33,
   "id": "51ed816c-7b25-49fa-94c4-a699071f52d0",
   "metadata": {},
   "outputs": [
    {
     "ename": "SyntaxError",
     "evalue": "incomplete input (3322667893.py, line 8)",
     "output_type": "error",
     "traceback": [
      "  \u001b[36mCell\u001b[39m\u001b[36m \u001b[39m\u001b[32mIn[33]\u001b[39m\u001b[32m, line 8\u001b[39m\n\u001b[31m    \u001b[39m\u001b[31mprint(dataSiswa[\"Nama\"][0])\u001b[39m\n                               ^\n\u001b[31mSyntaxError\u001b[39m\u001b[31m:\u001b[39m incomplete input\n"
     ]
    }
   ],
   "source": [
    "#Data dari database, Dict\n",
    "try:\n",
    "    dataSiswa = {\n",
    "        \"NIM\" : \"232342\",\n",
    "        \"Nama\" : \"Agnaya\",\n",
    "        \"Alamat\" : \"CCRG\"\n",
    "    }\n",
    "    print(dataSiswa[\"Nama\"])"
   ]
  },
  {
   "cell_type": "code",
   "execution_count": null,
   "id": "034910fd-d724-4b06-b1c7-7e2fd6b9681f",
   "metadata": {},
   "outputs": [],
   "source": []
  }
 ],
 "metadata": {
  "kernelspec": {
   "display_name": "Python 3 (ipykernel)",
   "language": "python",
   "name": "python3"
  },
  "language_info": {
   "codemirror_mode": {
    "name": "ipython",
    "version": 3
   },
   "file_extension": ".py",
   "mimetype": "text/x-python",
   "name": "python",
   "nbconvert_exporter": "python",
   "pygments_lexer": "ipython3",
   "version": "3.11.11"
  }
 },
 "nbformat": 4,
 "nbformat_minor": 5
}
