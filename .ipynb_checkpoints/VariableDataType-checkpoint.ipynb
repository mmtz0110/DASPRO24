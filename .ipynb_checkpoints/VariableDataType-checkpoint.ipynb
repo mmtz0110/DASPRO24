{
 "cells": [
  {
   "cell_type": "code",
   "execution_count": 4,
   "id": "14d98978-e888-40d9-ab65-0ffcb4f885c2",
   "metadata": {},
   "outputs": [
    {
     "name": "stdout",
     "output_type": "stream",
     "text": [
      "Nama:  Mumtaz\n",
      "Umur:  20\n",
      "Alamat:  Kp. Nyangkowek\n",
      "Provinsi:  7413412\n",
      "Nilai Pemrograman:  92.37\n",
      "Status Menikah:  False\n"
     ]
    }
   ],
   "source": [
    "name = \"Mumtaz\" #contoh tipe data String\n",
    "age = 20 #contoh tipe data Integer\n",
    "address,province = \"Kp. Nyangkowek\",\"7413412\"\n",
    "pythonScore = 92.37 #contoh tipe data Float\n",
    "isMarried = False #contoh tipe data Boolean\n",
    "\n",
    "print(\"Nama: \",name)\n",
    "print(\"Umur: \",age)\n",
    "print(\"Alamat: \",address)\n",
    "print(\"Provinsi: \",province)\n",
    "print(\"Nilai Pemrograman: \",pythonScore)\n",
    "print(\"Status Menikah: \",isMarried)"
   ]
  },
  {
   "cell_type": "code",
   "execution_count": 5,
   "id": "7b35b7a5-c08c-4b37-b14f-6f9f1ef17e14",
   "metadata": {},
   "outputs": [
    {
     "name": "stdout",
     "output_type": "stream",
     "text": [
      "Tipe data (nama):  <class 'str'>\n",
      "Tipe data (umur):  <class 'int'>\n",
      "Tipe data (alamat):  <class 'str'>\n",
      "Tipe data (provinsi):  <class 'str'>\n",
      "Tipe data (skor pemrograman):  <class 'float'>\n",
      "Tipe data (status menikah):  <class 'bool'>\n"
     ]
    }
   ],
   "source": [
    "print(\"Tipe data (nama): \",type(name))\n",
    "print(\"Tipe data (umur): \",type(age))\n",
    "print(\"Tipe data (alamat): \",type(address))\n",
    "print(\"Tipe data (provinsi): \",type(province))\n",
    "print(\"Tipe data (skor pemrograman): \",type(pythonScore))\n",
    "print(\"Tipe data (status menikah): \",type(isMarried))"
   ]
  },
  {
   "cell_type": "code",
   "execution_count": 10,
   "id": "0b9423eb-e0db-48fa-9b90-02f6c414c77d",
   "metadata": {},
   "outputs": [
    {
     "name": "stdout",
     "output_type": "stream",
     "text": [
      "7413414 7413412.0 True\n",
      "20 20.0 True\n",
      "92.37 92 True\n",
      "False 0 0.0\n"
     ]
    }
   ],
   "source": [
    "#Casting atau Konversi Tipe Data\n",
    "\n",
    "strToInt = int(province)\n",
    "strToFloat = float(province)\n",
    "strToBool = bool(province)\n",
    "print(strToInt+2,strToFloat,strToBool)\n",
    "\n",
    "intToStr = str(age)\n",
    "intToFloat = float(age)\n",
    "intToBool = bool(age)\n",
    "print(intToStr, intToFloat, intToBool)\n",
    "\n",
    "floatToStr = str(pythonScore)\n",
    "floatToInt = int(pythonScore)\n",
    "floatToBool = bool(pythonScore)\n",
    "print(floatToStr,floatToInt,floatToBool)\n",
    "\n",
    "boolToStr = str(isMarried)\n",
    "boolToInt = int(isMarried)\n",
    "boolToFloat = float(isMarried)\n",
    "print(boolToStr,boolToInt,boolToFloat)"
   ]
  },
  {
   "cell_type": "code",
   "execution_count": 12,
   "id": "5859fe64-437c-46c7-ab9b-5559c79f80a7",
   "metadata": {},
   "outputs": [
    {
     "name": "stdout",
     "output_type": "stream",
     "text": [
      "B\n",
      "g\n"
     ]
    }
   ],
   "source": [
    "#String adalah kumpulan dari beberapa karakter immutable\n",
    "city = \"Bandung\"\n",
    "panjang = len(city)\n",
    "print(city[0])\n",
    "print(city[panjang-1])"
   ]
  },
  {
   "cell_type": "code",
   "execution_count": 23,
   "id": "0d761c5c-bd3a-42bd-ae79-d351711a0dd4",
   "metadata": {},
   "outputs": [
    {
     "name": "stdout",
     "output_type": "stream",
     "text": [
      "Nilai Desimal: 500\n",
      "Nilai Biner: 10\n",
      "Nilai Octal: 255\n",
      "Nilai Hexa: 255\n",
      "0b111110100\n",
      "0o764\n",
      "0x1f4\n",
      "Biner dari 500 : 0b111110100\n",
      "Octal dari 500 : 0o764\n",
      "Hexa dari 500 : 0x1f4\n"
     ]
    }
   ],
   "source": [
    "decimal = 500\n",
    "biner = 0b1010\n",
    "octal = 0o377\n",
    "hexa = 0xff\n",
    "\n",
    "print(\"Nilai Desimal:\",decimal)\n",
    "print(\"Nilai Biner:\",biner)\n",
    "print(\"Nilai Octal:\",octal)\n",
    "print(\"Nilai Hexa:\",hexa)\n",
    "\n",
    "print(bin(decimal))\n",
    "print(oct(decimal))\n",
    "print(hex(decimal))\n",
    "\n",
    "print(\"Biner dari\",decimal,\":\",bin(decimal))\n",
    "print(\"Octal dari\",decimal,\":\",oct(decimal))\n",
    "print(\"Hexa dari\",decimal,\":\",hex(decimal))"
   ]
  },
  {
   "cell_type": "code",
   "execution_count": 36,
   "id": "e3593ce8-7d41-49ed-91f5-62fd4ec6e8e9",
   "metadata": {},
   "outputs": [
    {
     "name": "stdout",
     "output_type": "stream",
     "text": [
      "['Sukabumi', 'Malang', 'Bandung', 'Surabaya']\n",
      "Sukabumi\n",
      "Surabaya\n",
      "['Sukabumi', 'Jakarta', 'Bandung', 'Surabaya']\n",
      "('Basket', 'Masak', 'Sepak Bola')\n",
      "Basket\n",
      "{'name': 'Andi', 'age': 20, 'address': {'Street': 'Jl. Cibolang Kaler', 'number': 21, 'province': 'Kab. Sukabumi'}}\n",
      "Andi\n",
      "Kab. Sukabumi\n",
      "{'name': 'Rafi', 'age': 21, 'address': {'Street': 'Jl. Cemerlang', 'number': 1971, 'province': 'Kota Sukabumi'}}\n"
     ]
    }
   ],
   "source": [
    "#Tipe data Collection\n",
    "cities = [\"Sukabumi\",\"Malang\",\"Bandung\",\"Surabaya\"]\n",
    "print(cities)\n",
    "print(cities[0])\n",
    "print(cities[len(cities)-1])\n",
    "cities[1] = \"Jakarta\"\n",
    "print(cities)\n",
    "\n",
    "hobbies = (\"Basket\",\"Masak\",\"Sepak Bola\")\n",
    "print(hobbies)\n",
    "print(hobbies[0])\n",
    "#hobbies[0] = \"Watching netflix\" error program\n",
    "studentData = {\n",
    "    \"name\" : \"Andi\",\n",
    "    \"age\" : 20,\n",
    "    \"address\":{\n",
    "        \"Street\" : \"Jl. Cibolang Kaler\",\n",
    "        \"number\" : 21,\n",
    "        \"province\": \"Kab. Sukabumi\"\n",
    "    }\n",
    "}\n",
    "print(studentData)\n",
    "print(studentData[\"name\"])\n",
    "print(studentData[\"address\"][\"province\"])\n",
    "\n",
    "studentList = [\n",
    "    {\n",
    "        \"name\" : \"Andi\",\n",
    "        \"age\" : 20,\n",
    "        \"address\":{\n",
    "            \"Street\" : \"Jl. Cibolang Kaler\",\n",
    "            \"number\" : 21,\n",
    "            \"province\": \"Kab. Sukabumi\"\n",
    "        }\n",
    "    },\n",
    "    {\n",
    "        \"name\" : \"Rafi\",\n",
    "        \"age\" : 21,\n",
    "        \"address\":{\n",
    "            \"Street\" : \"Jl. Cemerlang\",\n",
    "            \"number\" : 1971,\n",
    "            \"province\": \"Kota Sukabumi\"\n",
    "        }\n",
    "    }\n",
    "]\n",
    "print(studentList[1])"
   ]
  },
  {
   "cell_type": "code",
   "execution_count": null,
   "id": "1c457f2d-4fd9-4d55-b63d-8ee0900f2122",
   "metadata": {},
   "outputs": [],
   "source": []
  }
 ],
 "metadata": {
  "kernelspec": {
   "display_name": "Python 3 (ipykernel)",
   "language": "python",
   "name": "python3"
  },
  "language_info": {
   "codemirror_mode": {
    "name": "ipython",
    "version": 3
   },
   "file_extension": ".py",
   "mimetype": "text/x-python",
   "name": "python",
   "nbconvert_exporter": "python",
   "pygments_lexer": "ipython3",
   "version": "3.11.11"
  }
 },
 "nbformat": 4,
 "nbformat_minor": 5
}
