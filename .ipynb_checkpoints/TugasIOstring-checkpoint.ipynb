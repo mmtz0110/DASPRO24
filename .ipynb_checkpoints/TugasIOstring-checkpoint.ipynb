{
 "cells": [
  {
   "cell_type": "markdown",
   "id": "9787bbe5-a787-4ea9-891f-26a0d74fa1ac",
   "metadata": {},
   "source": [
    "<h1>TUGAS INPUT OUTPUT</h1>"
   ]
  },
  {
   "cell_type": "markdown",
   "id": "73d1405c-bff0-4195-abfa-07b24c60de3c",
   "metadata": {},
   "source": [
    "<h3>1.Program biodata sederhana dengan fungsi format().</h3>"
   ]
  },
  {
   "cell_type": "code",
   "execution_count": 3,
   "id": "79497082-280d-4608-a52a-1fb94c455838",
   "metadata": {},
   "outputs": [
    {
     "name": "stdin",
     "output_type": "stream",
     "text": [
      "Masukkan nama:  Agnaya\n",
      "Masukkan umur:  19\n",
      "Masukkan alamat:  Cicurug\n",
      "Masukkan jurusan:  Informatika\n"
     ]
    },
    {
     "name": "stdout",
     "output_type": "stream",
     "text": [
      "\n",
      "Biodata:\n",
      "Nama    : Agnaya\n",
      "Umur    : 19\n",
      "Alamat  : Cicurug\n",
      "Jurusan : Informatika\n",
      "\n"
     ]
    }
   ],
   "source": [
    "nama = input(\"Masukkan nama: \")\n",
    "umur = input(\"Masukkan umur: \")\n",
    "alamat = input(\"Masukkan alamat: \")\n",
    "jurusan = input(\"Masukkan jurusan: \")\n",
    "\n",
    "biodata = \"\"\"\n",
    "Biodata:\n",
    "Nama    : {}\n",
    "Umur    : {}\n",
    "Alamat  : {}\n",
    "Jurusan : {}\n",
    "\"\"\".format(nama, umur, alamat, jurusan)\n",
    "\n",
    "print(biodata)"
   ]
  },
  {
   "cell_type": "markdown",
   "id": "92de60d3-0554-4fe0-8061-51ae604bef69",
   "metadata": {},
   "source": [
    "<h3>2. Jika terdapat kalimat UNIVERSITAS NUSA PUTRA SUKABUMI ,buatlah\n",
    "kode program untuk menampilkan output:</h3>\n",
    "a. putra nusa<br>\n",
    "b. NIVERSITAS NSA PTRA SKABMI<br>\n",
    "c. SUKABUMI PUTRA NUSA UNIVERSITAS<br>\n",
    "d. UNPS<br>\n",
    "e. TAS SAPU BUMI</h4>"
   ]
  },
  {
   "cell_type": "code",
   "execution_count": 59,
   "id": "32ef4486-99dd-48bb-8cf7-9e48b5895de9",
   "metadata": {},
   "outputs": [
    {
     "name": "stdout",
     "output_type": "stream",
     "text": [
      "a.putra nusa\n",
      "b.NIVERSITAS NSA PTRA SKABMI\n",
      "c.SUKABUMI PUTRA NUSA UNIVERSITAS\n",
      "d.UNPS\n",
      "e.TAS SAPU BUMI\n"
     ]
    }
   ],
   "source": [
    "text = \"UNIVERSITAS NUSA PUTRA SUKABUMI\"\n",
    "\n",
    "# a. putra nusa\n",
    "outputA = \" \".join(text.split()[2:0:-1]).lower()\n",
    "\n",
    "# b. NIVERSITAS NSA PTRA SKABMI\n",
    "outputB = text[1:].replace('U', '')\n",
    "\n",
    "# c. SUKABUMI PUTRA NUSA UNIVERSITAS\n",
    "outputC = \" \".join(reversed(text.split()))\n",
    "\n",
    "# d. UNPS (singkatan dari setiap kata)\n",
    "outputD = \"\".join([word[0] for word in text.split()])\n",
    "\n",
    "# e. TAS SAPU BUMI\n",
    "outputE = \" \".join([text.split()[0][-3:], text.split()[1][2:4] + text.split()[2][0:2], text.split()[3][-4:]])\n",
    "\n",
    "print(f\"a.{outputA}\")\n",
    "print(f\"b.{outputB}\")\n",
    "print(f\"c.{outputC}\")\n",
    "print(f\"d.{outputD}\")\n",
    "print(f\"e.{outputE}\")\n"
   ]
  },
  {
   "cell_type": "code",
   "execution_count": null,
   "id": "ef4000a7-f5ed-4ea2-9ce4-304ad90ec484",
   "metadata": {},
   "outputs": [],
   "source": []
  }
 ],
 "metadata": {
  "kernelspec": {
   "display_name": "Python 3 (ipykernel)",
   "language": "python",
   "name": "python3"
  },
  "language_info": {
   "codemirror_mode": {
    "name": "ipython",
    "version": 3
   },
   "file_extension": ".py",
   "mimetype": "text/x-python",
   "name": "python",
   "nbconvert_exporter": "python",
   "pygments_lexer": "ipython3",
   "version": "3.13.2"
  }
 },
 "nbformat": 4,
 "nbformat_minor": 5
}
