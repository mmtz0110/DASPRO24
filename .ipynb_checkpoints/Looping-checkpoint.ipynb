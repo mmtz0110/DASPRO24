{
 "cells": [
  {
   "cell_type": "markdown",
   "id": "522db51d-ea95-4682-997e-014795e0cce1",
   "metadata": {},
   "source": [
    "<h1>for var in collection</h1>"
   ]
  },
  {
   "cell_type": "code",
   "execution_count": 1,
   "id": "6cf056ff-6b4d-4668-ac62-c7a1024772b3",
   "metadata": {},
   "outputs": [
    {
     "name": "stdout",
     "output_type": "stream",
     "text": [
      "Nama buah: Grape\n",
      "Nama buah: Apple\n",
      "Nama buah: Banana\n",
      "Nama buah: Watermelon\n",
      "Nama buah: Pineapple\n"
     ]
    }
   ],
   "source": [
    "fruits = [\"Grape\",\"Apple\",\"Banana\",\"Watermelon\",\"Pineapple\"]\n",
    "\n",
    "for fruit in fruits:\n",
    "    print(f\"Nama buah: {fruit}\")"
   ]
  },
  {
   "cell_type": "code",
   "execution_count": 21,
   "id": "30dad818-cdea-477e-95d5-84face3af4dc",
   "metadata": {},
   "outputs": [
    {
     "name": "stdout",
     "output_type": "stream",
     "text": [
      "Nilai rata-rata: 71\n"
     ]
    }
   ],
   "source": [
    "#contoh:\n",
    "#kelas ti24f punya data nilai pemrograman python 80,100,90,70,70,50,40\n",
    "#carilah rata2 nilai pemrograman python di kelas ti24f\n",
    "total = 0\n",
    "nilaiPython = [80,100,90,70,70,50,40]\n",
    "for nilai in nilaiPython:\n",
    "    total += nilai\n",
    "rata2 = total // len(nilaiPython)\n",
    "print(f\"Nilai rata-rata: {rata2}\")"
   ]
  },
  {
   "cell_type": "code",
   "execution_count": 29,
   "id": "bcab20cd-f200-4e8b-8692-408e74252673",
   "metadata": {},
   "outputs": [
    {
     "name": "stdout",
     "output_type": "stream",
     "text": [
      "0: Jan\n",
      "1: Feb\n",
      "2: Mar\n",
      "3: Apr\n",
      "4: May\n",
      "5: Jun\n",
      "6: Jul\n",
      "7: Aug\n",
      "8: Sep\n",
      "9: Oct\n",
      "10: Nov\n",
      "11: Des\n"
     ]
    }
   ],
   "source": [
    "#enumerate\n",
    "month = [\"Jan\",\"Feb\",\"Mar\",\"Apr\",\"May\",\"Jun\",\"Jul\",\"Aug\",\"Sep\",\"Oct\",\"Nov\",\"Des\"]\n",
    "for i, m in enumerate(month):\n",
    "    print(f\"{i}: {m}\")"
   ]
  },
  {
   "cell_type": "code",
   "execution_count": 19,
   "id": "20d9905b-b0a7-4198-a214-06964a3bf7d4",
   "metadata": {},
   "outputs": [
    {
     "name": "stdin",
     "output_type": "stream",
     "text": [
      "Masukan nama kampus:  UnIverSITas NuSA PUtrA\n"
     ]
    },
    {
     "name": "stdout",
     "output_type": "stream",
     "text": [
      "U adalah Huruf Vokal, Total: 1\n",
      "n adalah Bukan Vokal\n",
      "I adalah Huruf Vokal, Total: 2\n",
      "v adalah Bukan Vokal\n",
      "e adalah Huruf Vokal, Total: 3\n",
      "r adalah Bukan Vokal\n",
      "S adalah Bukan Vokal\n",
      "I adalah Huruf Vokal, Total: 4\n",
      "T adalah Bukan Vokal\n",
      "a adalah Huruf Vokal, Total: 5\n",
      "s adalah Bukan Vokal\n",
      "  adalah Bukan Vokal\n",
      "N adalah Bukan Vokal\n",
      "u adalah Huruf Vokal, Total: 6\n",
      "S adalah Bukan Vokal\n",
      "A adalah Huruf Vokal, Total: 7\n",
      "  adalah Bukan Vokal\n",
      "P adalah Bukan Vokal\n",
      "U adalah Huruf Vokal, Total: 8\n",
      "t adalah Bukan Vokal\n",
      "r adalah Bukan Vokal\n",
      "A adalah Huruf Vokal, Total: 9\n",
      "Jumlah total huruf vokal: 9\n"
     ]
    }
   ],
   "source": [
    "kampus = input(\"Masukan nama kampus: \")\n",
    "listVokal = \"aiueoAIUEO\"\n",
    "total = 0\n",
    "isVokal = \"\"\n",
    "for char in kampus:\n",
    "    if char in listVokal:\n",
    "        total += 1\n",
    "        isVokal = \"Huruf Vokal\"\n",
    "        print(f\"{char} adalah {isVokal}, Total: {total}\")\n",
    "    else:\n",
    "        isVokal = \"Bukan Vokal\"\n",
    "        print(f\"{char} adalah {isVokal}\")\n",
    "print(f\"Jumlah total huruf vokal: {total}\")"
   ]
  },
  {
   "cell_type": "code",
   "execution_count": 20,
   "id": "82c57882-dabb-41d7-af64-dbbd702d6418",
   "metadata": {},
   "outputs": [
    {
     "name": "stdout",
     "output_type": "stream",
     "text": [
      "[1, 4, 9, 16, 25]\n"
     ]
    }
   ],
   "source": [
    "#looping list comprehension\n",
    "data = [1,2,3,4,5]\n",
    "pangkat = [x**2 for x in data]\n",
    "print(pangkat)"
   ]
  },
  {
   "cell_type": "code",
   "execution_count": 24,
   "id": "3a52a454-04ab-42c3-ab8b-665cc92a69c7",
   "metadata": {},
   "outputs": [
    {
     "name": "stdout",
     "output_type": "stream",
     "text": [
      "Niai i adalah: 0\n",
      "Niai i adalah: 1\n",
      "Niai i adalah: 2\n",
      "Niai i adalah: 3\n",
      "Niai i adalah: 4\n",
      "Niai i adalah: 5\n",
      "Niai i adalah: 6\n",
      "Niai i adalah: 7\n",
      "Niai i adalah: 8\n",
      "Niai i adalah: 9\n"
     ]
    }
   ],
   "source": [
    "#range \n",
    "for i in range(10):\n",
    "    print(f\"Niai i adalah: {i}\")"
   ]
  },
  {
   "cell_type": "code",
   "execution_count": 25,
   "id": "8a408bbb-178e-4365-a5b0-0d15b47a409e",
   "metadata": {},
   "outputs": [
    {
     "name": "stdout",
     "output_type": "stream",
     "text": [
      "Nilai j adalah: 5\n",
      "Nilai j adalah: 6\n",
      "Nilai j adalah: 7\n",
      "Nilai j adalah: 8\n",
      "Nilai j adalah: 9\n"
     ]
    }
   ],
   "source": [
    "for j in range(5,10):\n",
    "    print(f\"Nilai j adalah: {j}\")"
   ]
  },
  {
   "cell_type": "code",
   "execution_count": 31,
   "id": "5436a66d-f625-4223-851a-2f82bfd02cb0",
   "metadata": {},
   "outputs": [
    {
     "name": "stdin",
     "output_type": "stream",
     "text": [
      "Masukan bilangan:  4\n"
     ]
    },
    {
     "name": "stdout",
     "output_type": "stream",
     "text": [
      "4 bukan bilangan prima\n"
     ]
    }
   ],
   "source": [
    "#cek bilangan prima atau bukan prima\n",
    "number = int(input(\"Masukan bilangan: \"))\n",
    "faktor = 0\n",
    "for i in range(1, number+1):\n",
    "    if number % i == 0:\n",
    "        faktor += 1\n",
    "if faktor == 2:\n",
    "    print(f\"{number} adalah bilangan prima\")\n",
    "else:\n",
    "    print(f\"{number} bukan bilangan prima\")"
   ]
  },
  {
   "cell_type": "code",
   "execution_count": 38,
   "id": "651325e8-90f4-49cb-b8fb-30e5e035d4e9",
   "metadata": {},
   "outputs": [
    {
     "name": "stdin",
     "output_type": "stream",
     "text": [
      "Masukan angka:  6\n"
     ]
    },
    {
     "name": "stdout",
     "output_type": "stream",
     "text": [
      "6 = 720\n"
     ]
    }
   ],
   "source": [
    "#faktorial\n",
    "#4! = 4 * 3 * 2 * 1 = 24\n",
    "total = 1\n",
    "number = int(input(\"Masukan angka: \"))\n",
    "for i in range(1, number+1):\n",
    "    total *= i\n",
    "print(f\"{number} = {total}\")"
   ]
  },
  {
   "cell_type": "code",
   "execution_count": 33,
   "id": "52ed5928-afa2-4c36-bfe8-2c0c498ac712",
   "metadata": {},
   "outputs": [
    {
     "name": "stdin",
     "output_type": "stream",
     "text": [
      "Masukan bilangan:  6\n"
     ]
    },
    {
     "name": "stdout",
     "output_type": "stream",
     "text": [
      "1 -2 3 -4 5 -6 "
     ]
    }
   ],
   "source": [
    "number = int(input(\"Masukan bilangan: \"))\n",
    "sign = 1\n",
    "for i in range(1, number+1):\n",
    "    result = sign * i\n",
    "    print(f\"{result} \", end='')\n",
    "    sign *= -1"
   ]
  },
  {
   "cell_type": "code",
   "execution_count": 41,
   "id": "210051bd-2c05-4755-852d-8f02050e118b",
   "metadata": {},
   "outputs": [
    {
     "name": "stdout",
     "output_type": "stream",
     "text": [
      "Jumlah penonton laki-laki:4\n",
      "Jumlah penonton perempuan:3\n"
     ]
    }
   ],
   "source": [
    "kursiBioskop = \"LPPLLPL\"\n",
    "\n",
    "#Hitung jumlah penonton laki-laki\n",
    "#Hitung jumlah penonton perempuan\n",
    "\n",
    "totalLaki = 0\n",
    "for jenis in kursiBioskop:\n",
    "    if jenis == \"L\":\n",
    "        totalLaki += 1\n",
    "print(f\"Jumlah penonton laki-laki:{totalLaki}\")\n",
    "print(f\"Jumlah penonton perempuan:{len(kursiBioskop)-totalLaki}\")"
   ]
  },
  {
   "cell_type": "code",
   "execution_count": 49,
   "id": "d2213d4e-7669-4c80-8752-6f9454431034",
   "metadata": {},
   "outputs": [
    {
     "name": "stdout",
     "output_type": "stream",
     "text": [
      "Jumlah couple: 4\n"
     ]
    }
   ],
   "source": [
    "#hitung yg disamping nya berbeda kelamin\n",
    "kursi = \"LPPLLPL\"\n",
    "couple = 0\n",
    "for i in range(len(kursi)-1):\n",
    "    if kursi[i] != kursi[i+1]:\n",
    "        couple += 1\n",
    "print(f\"Jumlah couple: {couple}\")"
   ]
  },
  {
   "cell_type": "code",
   "execution_count": 43,
   "id": "1a19826a-c132-4d3f-8c35-cba43feb1298",
   "metadata": {},
   "outputs": [
    {
     "name": "stdout",
     "output_type": "stream",
     "text": [
      "fname: Dedi\n",
      "lname: Cahyadi\n"
     ]
    }
   ],
   "source": [
    "data = {\n",
    "    \"fname\" : \"Dedi\",\n",
    "    \"lname\" : \"Cahyadi\"\n",
    "}\n",
    "\n",
    "for key, value in data.items():\n",
    "    print(f\"{key}: {value}\")"
   ]
  },
  {
   "cell_type": "code",
   "execution_count": null,
   "id": "fc5f45a8-c45a-4799-88e2-56e6215b0550",
   "metadata": {},
   "outputs": [],
   "source": []
  }
 ],
 "metadata": {
  "kernelspec": {
   "display_name": "Python 3 (ipykernel)",
   "language": "python",
   "name": "python3"
  },
  "language_info": {
   "codemirror_mode": {
    "name": "ipython",
    "version": 3
   },
   "file_extension": ".py",
   "mimetype": "text/x-python",
   "name": "python",
   "nbconvert_exporter": "python",
   "pygments_lexer": "ipython3",
   "version": "3.13.2"
  }
 },
 "nbformat": 4,
 "nbformat_minor": 5
}
