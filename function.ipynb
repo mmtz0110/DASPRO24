{
 "cells": [
  {
   "cell_type": "code",
   "execution_count": 7,
   "id": "19e8d970-f965-4d9c-a276-97524d0610bc",
   "metadata": {},
   "outputs": [
    {
     "name": "stdin",
     "output_type": "stream",
     "text": [
      " aku suka nasi goreng\n"
     ]
    },
    {
     "name": "stdout",
     "output_type": "stream",
     "text": [
      "gnerog isan akus uka "
     ]
    }
   ],
   "source": [
    "def reversedWord(word):\n",
    "    word = word.split(\"Masukan kalimat: \")\n",
    "    for i in range(len(word)):\n",
    "        rword = reversed(word[i])\n",
    "        for j in rword:\n",
    "            print(j, end=\"\")\n",
    "        print(\"\",end=\" \")\n",
    "\n",
    "word = input()\n",
    "reversedWord(word)"
   ]
  },
  {
   "cell_type": "code",
   "execution_count": 4,
   "id": "2d91fef5-12b0-46cc-9c05-7479ba79d463",
   "metadata": {},
   "outputs": [
    {
     "name": "stdin",
     "output_type": "stream",
     "text": [
      " aku belum mandi\n",
      " 2 3 1\n"
     ]
    },
    {
     "name": "stdout",
     "output_type": "stream",
     "text": [
      "belum mandi aku "
     ]
    }
   ],
   "source": [
    "def basedOnOrder(word, number):\n",
    "    word = word.split(\"Masukan kalimat: \")\n",
    "    number = number.split(\"Masukan urutan kata: \")\n",
    "    number = list(map(int, number))\n",
    "    for i in number:\n",
    "        print(word[i-1], end=\" \")\n",
    "\n",
    "sentence = input()\n",
    "indeks = input()\n",
    "basedOnOrder(sentence, indeks)"
   ]
  },
  {
   "cell_type": "code",
   "execution_count": 8,
   "id": "b321df5f-ee92-4e01-a030-bd471298cb06",
   "metadata": {},
   "outputs": [
    {
     "name": "stdin",
     "output_type": "stream",
     "text": [
      "Masukan Kalimat: aku mengendarai motor\n",
      "Masukan Pilihan (1-2): 2\n"
     ]
    },
    {
     "name": "stdout",
     "output_type": "stream",
     "text": [
      "4k|_| mengend4r41 m0t0r\n"
     ]
    }
   ],
   "source": [
    "def changeVokal(word, choose):\n",
    "    word = list(word)\n",
    "    if choose == 1:\n",
    "        for i in range(len(word)):\n",
    "            if word[i] == \"A\":\n",
    "                word[i] = \"4\"\n",
    "            elif word[i] ==\"I\":\n",
    "                word[i] = \"1\"\n",
    "            elif word[i] == \"U\":\n",
    "                word[i] = \"|_|\"\n",
    "            elif word[i] == \"E\":\n",
    "                word[i] = \"3\"\n",
    "            elif word[i] == \"O\":\n",
    "                word[i] = \"0\"\n",
    "            \n",
    "    elif choose == 2:\n",
    "        for i in range(len(word)):\n",
    "            if word[i] == \"a\":\n",
    "                word[i] = \"4\"\n",
    "            elif word[i] == \"i\":\n",
    "                word[i] = \"1\"\n",
    "            elif word[i] == \"u\":\n",
    "                word[i] = \"|_|\"\n",
    "            elif word[i] == \"e\":\n",
    "                word[i] == \"3\"\n",
    "            elif word[i] == \"o\":\n",
    "                word[i] = \"0\"\n",
    "    word = \"\".join(word)\n",
    "    print(word)\n",
    "\n",
    "word = input(\"Masukan Kalimat:\")\n",
    "choose = int(input(\"Masukan Pilihan (1-2):\"))\n",
    "changeVokal(word, choose)"
   ]
  },
  {
   "cell_type": "code",
   "execution_count": null,
   "id": "38c4b21e-32a5-4907-a5d0-795824be1cde",
   "metadata": {},
   "outputs": [],
   "source": []
  }
 ],
 "metadata": {
  "kernelspec": {
   "display_name": "Python 3 (ipykernel)",
   "language": "python",
   "name": "python3"
  },
  "language_info": {
   "codemirror_mode": {
    "name": "ipython",
    "version": 3
   },
   "file_extension": ".py",
   "mimetype": "text/x-python",
   "name": "python",
   "nbconvert_exporter": "python",
   "pygments_lexer": "ipython3",
   "version": "3.11.11"
  }
 },
 "nbformat": 4,
 "nbformat_minor": 5
}
