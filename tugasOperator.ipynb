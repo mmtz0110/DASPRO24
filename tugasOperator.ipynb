{
 "cells": [
  {
   "cell_type": "markdown",
   "id": "7ccc413b-801b-4cc4-bd04-5f8011409996",
   "metadata": {},
   "source": [
    "<h1>ARITMATIKA</h1>"
   ]
  },
  {
   "cell_type": "code",
   "execution_count": 4,
   "id": "3589232a-cdea-4735-83e7-ae0c442237af",
   "metadata": {},
   "outputs": [
    {
     "name": "stdout",
     "output_type": "stream",
     "text": [
      "Budi memiliki 12 apel\n",
      "Dibagikan 4 temannya\n",
      "Apel yg diterima setiap teman adalah 3 buah\n",
      "Jika budi mendapatkan tambahan 8 apel, maka total apel budi adalah 20\n"
     ]
    }
   ],
   "source": [
    "apelBudi = 12\n",
    "teman = 4\n",
    "bagiApel = 12//4\n",
    "print(\"Budi memiliki\",apelBudi,\"apel\")\n",
    "print(\"Dibagikan\",teman,\"temannya\")\n",
    "print(\"Apel yg diterima setiap teman adalah\",bagiApel,\"buah\")\n",
    "print(\"Jika budi mendapatkan tambahan 8 apel, maka total apel budi adalah\",apelBudi + 8)"
   ]
  },
  {
   "cell_type": "markdown",
   "id": "16a2ef8f-2548-45fd-9b71-d101e534b90f",
   "metadata": {},
   "source": [
    "<h1>PERBANDINGAN</h1>"
   ]
  },
  {
   "cell_type": "code",
   "execution_count": 16,
   "id": "28a4ace9-5e13-4cfc-a667-f76f94335218",
   "metadata": {},
   "outputs": [
    {
     "name": "stdout",
     "output_type": "stream",
     "text": [
      "Apakah tinggi siti sama dengan andi? : False\n",
      "Apakah tinggi siti tidak sama dengan andi? : True\n",
      "Apakah tinggi siti lebih dari andi? : False\n",
      "Apakah tinggi siti kurang dari andi? : True\n",
      "Apakah tinggi siti lebih dari sama dengan andi? : False\n",
      "Apakah tinggi siti kurang dari sama dengan andi? : True\n"
     ]
    }
   ],
   "source": [
    "tinggiSiti = 160\n",
    "tinggiAndi = 165\n",
    "print(\"Apakah tinggi siti sama dengan andi? :\",tinggiSiti==tinggiAndi)\n",
    "print(\"Apakah tinggi siti tidak sama dengan andi? :\",tinggiSiti!=tinggiAndi)\n",
    "print(\"Apakah tinggi siti lebih dari andi? :\",tinggiSiti>tinggiAndi)\n",
    "print(\"Apakah tinggi siti kurang dari andi? :\",tinggiSiti<tinggiAndi)\n",
    "print(\"Apakah tinggi siti lebih dari sama dengan andi? :\",tinggiSiti>=tinggiAndi)\n",
    "print(\"Apakah tinggi siti kurang dari sama dengan andi? :\",tinggiSiti<=tinggiAndi)"
   ]
  },
  {
   "cell_type": "markdown",
   "id": "69301eb0-7eab-4db0-897a-abbf7325b450",
   "metadata": {},
   "source": [
    "<h1>LOGIKA</h1>"
   ]
  },
  {
   "cell_type": "code",
   "execution_count": 12,
   "id": "9181ed01-8215-4a47-a97f-724ad0a7169b",
   "metadata": {},
   "outputs": [
    {
     "name": "stdin",
     "output_type": "stream",
     "text": [
      "Apakah cuaca cerah? (cerah/hujan):  cerah\n",
      "Apakah PR selesai? (sudah/belum):  sudah\n"
     ]
    },
    {
     "name": "stdout",
     "output_type": "stream",
     "text": [
      "Cuaca cerah  dan  sudah  mengerjakan pr, apakah budi bisa bermain?:  True\n"
     ]
    }
   ],
   "source": [
    "cuaca = str(input(\"Apakah cuaca cerah? (cerah/hujan): \"))\n",
    "pr = str(input(\"Apakah PR selesai? (sudah/belum): \"))\n",
    "print(\"Cuaca\",cuaca,\" dan \",pr,\" mengerjakan pr, apakah budi bisa bermain?: \",cuaca =='cerah' and pr == 'sudah')"
   ]
  },
  {
   "cell_type": "markdown",
   "id": "59d2a573-30dc-441e-a352-66224168da3f",
   "metadata": {},
   "source": [
    "<h1>BITWISE</h1>"
   ]
  },
  {
   "cell_type": "code",
   "execution_count": null,
   "id": "82151ebc-649d-4a36-b05e-ddda45221773",
   "metadata": {},
   "outputs": [],
   "source": []
  }
 ],
 "metadata": {
  "kernelspec": {
   "display_name": "Python 3 (ipykernel)",
   "language": "python",
   "name": "python3"
  },
  "language_info": {
   "codemirror_mode": {
    "name": "ipython",
    "version": 3
   },
   "file_extension": ".py",
   "mimetype": "text/x-python",
   "name": "python",
   "nbconvert_exporter": "python",
   "pygments_lexer": "ipython3",
   "version": "3.13.2"
  }
 },
 "nbformat": 4,
 "nbformat_minor": 5
}
