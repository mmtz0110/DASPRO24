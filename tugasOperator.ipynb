{
 "cells": [
  {
   "cell_type": "markdown",
   "id": "7ccc413b-801b-4cc4-bd04-5f8011409996",
   "metadata": {},
   "source": [
    "<h1>ARITMATIKA</h1>"
   ]
  },
  {
   "cell_type": "code",
   "execution_count": 4,
   "id": "3589232a-cdea-4735-83e7-ae0c442237af",
   "metadata": {},
   "outputs": [
    {
     "name": "stdout",
     "output_type": "stream",
     "text": [
      "Budi memiliki 12 apel\n",
      "Dibagikan 4 temannya\n",
      "Apel yg diterima setiap teman adalah 3 buah\n",
      "Jika budi mendapatkan tambahan 8 apel, maka total apel budi adalah 20\n"
     ]
    }
   ],
   "source": [
    "apelBudi = 12\n",
    "teman = 4\n",
    "bagiApel = 12//4\n",
    "print(\"Budi memiliki\",apelBudi,\"apel\")\n",
    "print(\"Dibagikan\",teman,\"temannya\")\n",
    "print(\"Apel yg diterima setiap teman adalah\",bagiApel,\"buah\")\n",
    "print(\"Jika budi mendapatkan tambahan 8 apel, maka total apel budi adalah\",apelBudi + 8)"
   ]
  },
  {
   "cell_type": "markdown",
   "id": "16a2ef8f-2548-45fd-9b71-d101e534b90f",
   "metadata": {},
   "source": [
    "<h1>PERBANDINGAN</h1>"
   ]
  },
  {
   "cell_type": "code",
   "execution_count": 16,
   "id": "28a4ace9-5e13-4cfc-a667-f76f94335218",
   "metadata": {},
   "outputs": [
    {
     "name": "stdout",
     "output_type": "stream",
     "text": [
      "Apakah tinggi siti sama dengan andi? : False\n",
      "Apakah tinggi siti tidak sama dengan andi? : True\n",
      "Apakah tinggi siti lebih dari andi? : False\n",
      "Apakah tinggi siti kurang dari andi? : True\n",
      "Apakah tinggi siti lebih dari sama dengan andi? : False\n",
      "Apakah tinggi siti kurang dari sama dengan andi? : True\n"
     ]
    }
   ],
   "source": [
    "tinggiSiti = 160\n",
    "tinggiAndi = 165\n",
    "print(\"Apakah tinggi siti sama dengan andi? :\",tinggiSiti==tinggiAndi)\n",
    "print(\"Apakah tinggi siti tidak sama dengan andi? :\",tinggiSiti!=tinggiAndi)\n",
    "print(\"Apakah tinggi siti lebih dari andi? :\",tinggiSiti>tinggiAndi)\n",
    "print(\"Apakah tinggi siti kurang dari andi? :\",tinggiSiti<tinggiAndi)\n",
    "print(\"Apakah tinggi siti lebih dari sama dengan andi? :\",tinggiSiti>=tinggiAndi)\n",
    "print(\"Apakah tinggi siti kurang dari sama dengan andi? :\",tinggiSiti<=tinggiAndi)"
   ]
  },
  {
   "cell_type": "markdown",
   "id": "69301eb0-7eab-4db0-897a-abbf7325b450",
   "metadata": {},
   "source": [
    "<h1>LOGIKA</h1>"
   ]
  },
  {
   "cell_type": "code",
   "execution_count": 12,
   "id": "9181ed01-8215-4a47-a97f-724ad0a7169b",
   "metadata": {},
   "outputs": [
    {
     "name": "stdin",
     "output_type": "stream",
     "text": [
      "Apakah cuaca cerah? (cerah/hujan):  cerah\n",
      "Apakah PR selesai? (sudah/belum):  sudah\n"
     ]
    },
    {
     "name": "stdout",
     "output_type": "stream",
     "text": [
      "Cuaca cerah  dan  sudah  mengerjakan pr, apakah budi bisa bermain?:  True\n"
     ]
    }
   ],
   "source": [
    "cuaca = str(input(\"Apakah cuaca cerah? (cerah/hujan): \"))\n",
    "pr = str(input(\"Apakah PR selesai? (sudah/belum): \"))\n",
    "print(\"Cuaca\",cuaca,\" dan \",pr,\" mengerjakan pr, apakah budi bisa bermain?: \",cuaca =='cerah' and pr == 'sudah')"
   ]
  },
  {
   "cell_type": "markdown",
   "id": "59d2a573-30dc-441e-a352-66224168da3f",
   "metadata": {},
   "source": [
    "<h1>BITWISE</h1>"
   ]
  },
  {
   "cell_type": "code",
   "execution_count": 3,
   "id": "82151ebc-649d-4a36-b05e-ddda45221773",
   "metadata": {},
   "outputs": [
    {
     "name": "stdout",
     "output_type": "stream",
     "text": [
      "2\n",
      "7\n",
      "5\n"
     ]
    }
   ],
   "source": [
    "num1 = 6\n",
    "num2 = 3\n",
    "print(num1 & num2)\n",
    "print(num1 | num2)\n",
    "print(num1 ^ num2)"
   ]
  },
  {
   "cell_type": "markdown",
   "id": "1e27f9b7-fad7-4445-a8b1-182402d96ab4",
   "metadata": {},
   "source": [
    "<h1>PENUGASAN</h1>"
   ]
  },
  {
   "cell_type": "code",
   "execution_count": 1,
   "id": "7dc95432-4020-4f21-9a46-496e98f113bd",
   "metadata": {},
   "outputs": [
    {
     "name": "stdout",
     "output_type": "stream",
     "text": [
      "Seorang siswa memiliki uang saldo sebanyak 50000\n",
      "Lalu mengisi uang saldo sebanyak Rp.20000, total uang saldo menjadi 70000\n",
      "Lalu membeli paket data seharga Rp.30000, total uang saldo menjadi 40000\n"
     ]
    }
   ],
   "source": [
    "saldo = 50000\n",
    "\n",
    "print(\"Seorang siswa memiliki uang saldo sebanyak\",saldo)\n",
    "saldo += 20000\n",
    "print(\"Lalu mengisi uang saldo sebanyak Rp.20000, total uang saldo menjadi\",saldo)\n",
    "saldo -= 30000\n",
    "print(\"Lalu membeli paket data seharga Rp.30000, total uang saldo menjadi\",saldo)"
   ]
  },
  {
   "cell_type": "markdown",
   "id": "2fe53092-1de4-403e-8f16-63c18e00d3b9",
   "metadata": {},
   "source": [
    "<h1>KEANGGOTAAN</h1>"
   ]
  },
  {
   "cell_type": "code",
   "execution_count": 2,
   "id": "1d6741a8-9c7a-4b6d-a81a-f52fbe28602f",
   "metadata": {},
   "outputs": [
    {
     "name": "stdout",
     "output_type": "stream",
     "text": [
      "False\n",
      "True\n"
     ]
    }
   ],
   "source": [
    "peserta_lomba = [\"Andi\", \"Budi\", \"Citra\", \"Dewi\" ]\n",
    "temukan = \"Eka\"\n",
    "print(temukan in peserta_lomba)\n",
    "\n",
    "kalimat = \"Saya suka belajar Python\"\n",
    "temukan = \"Python\"\n",
    "print(temukan in kalimat)"
   ]
  },
  {
   "cell_type": "markdown",
   "id": "88e98622-1f98-4b85-ae04-b99340408c65",
   "metadata": {},
   "source": [
    "<h1>IDENTITAS</h1>"
   ]
  },
  {
   "cell_type": "code",
   "execution_count": 3,
   "id": "f5653268-adbf-4d09-a477-4584e364c3f0",
   "metadata": {},
   "outputs": [
    {
     "name": "stdout",
     "output_type": "stream",
     "text": [
      "id variabel x adalah 9097808\n",
      "id variabel y adalah 9097808\n",
      "Apakah x sama dengan y? True\n",
      "Apakah kedua list tersebut mengacu ke objek yang sama? False\n"
     ]
    }
   ],
   "source": [
    "x = 5\n",
    "y = 5\n",
    "print(\"id variabel x adalah\",id(x))\n",
    "print(\"id variabel y adalah\",id(y))\n",
    "print(\"Apakah x sama dengan y?\",x is y)\n",
    "\n",
    "list_1 = [\"2\", \"3\", \"5\", \"7\", \"9\"]\n",
    "list_2 = [\"2\", \"3\", \"5\", \"7\", \"9\"]\n",
    "hasil = list_1 is list_2\n",
    "print(\"Apakah kedua list tersebut mengacu ke objek yang sama?\",hasil)"
   ]
  },
  {
   "cell_type": "markdown",
   "id": "a07947a5-b603-42aa-bf03-2facd2d3b13e",
   "metadata": {},
   "source": [
    "<h1>TERNARY</h1>"
   ]
  },
  {
   "cell_type": "code",
   "execution_count": 4,
   "id": "9990cee4-e80f-4bb7-88fd-f6fd4b4a55ac",
   "metadata": {},
   "outputs": [
    {
     "name": "stdin",
     "output_type": "stream",
     "text": [
      "Nilai x: 20\n"
     ]
    },
    {
     "name": "stdout",
     "output_type": "stream",
     "text": [
      "Nilai x lebih kecil dari 100\n"
     ]
    }
   ],
   "source": [
    "x = int(input(\"Nilai x:\"))\n",
    "y = 100\n",
    "islebihtinggi = \"Nilai x lebih besar dari 100\" if x > y else \"Nilai x lebih kecil dari 100\"\n",
    "print(islebihtinggi)"
   ]
  },
  {
   "cell_type": "code",
   "execution_count": 5,
   "id": "df52f905-1285-4d1d-900a-ae81bcc02462",
   "metadata": {},
   "outputs": [
    {
     "name": "stdin",
     "output_type": "stream",
     "text": [
      "Nilai matkul: 80\n"
     ]
    },
    {
     "name": "stdout",
     "output_type": "stream",
     "text": [
      "Lulus\n"
     ]
    }
   ],
   "source": [
    "x = int(input(\"Nilai matkul:\"))\n",
    "y = 70\n",
    "islulus = \"Lulus\" if x > y else \"Tidak Lulus\"\n",
    "print(islulus)"
   ]
  }
 ],
 "metadata": {
  "kernelspec": {
   "display_name": "Python 3 (ipykernel)",
   "language": "python",
   "name": "python3"
  },
  "language_info": {
   "codemirror_mode": {
    "name": "ipython",
    "version": 3
   },
   "file_extension": ".py",
   "mimetype": "text/x-python",
   "name": "python",
   "nbconvert_exporter": "python",
   "pygments_lexer": "ipython3",
   "version": "3.13.2"
  }
 },
 "nbformat": 4,
 "nbformat_minor": 5
}
