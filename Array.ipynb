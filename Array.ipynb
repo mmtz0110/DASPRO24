{
 "cells": [
  {
   "cell_type": "code",
   "execution_count": 1,
   "metadata": {},
   "outputs": [],
   "source": [
    "import numpy as np"
   ]
  },
  {
   "cell_type": "code",
   "execution_count": 12,
   "metadata": {},
   "outputs": [],
   "source": [
    "mat1D = np.array([1,2,3,4,5,6,7,8,9,10])\n",
    "mat2D = np.array([[1,2,3],[4,6,7],[8,9,10]])"
   ]
  },
  {
   "cell_type": "code",
   "execution_count": 13,
   "metadata": {},
   "outputs": [
    {
     "name": "stdout",
     "output_type": "stream",
     "text": [
      "[ 1  2  3  4  5  6  7  8  9 10]\n",
      "[[ 1  2  3]\n",
      " [ 4  6  7]\n",
      " [ 8  9 10]]\n"
     ]
    }
   ],
   "source": [
    "print(mat1D)\n",
    "print(mat2D)"
   ]
  },
  {
   "cell_type": "code",
   "execution_count": 18,
   "metadata": {},
   "outputs": [
    {
     "name": "stdout",
     "output_type": "stream",
     "text": [
      "1\n",
      "[1 2 3]\n",
      "[4 6 7]\n",
      "[ 8  9 10]\n",
      "7\n"
     ]
    }
   ],
   "source": [
    "print(mat1D[0])\n",
    "\n",
    "print(mat2D[0])\n",
    "print(mat2D[1])\n",
    "print(mat2D[2])\n",
    "\n",
    "print(mat2D[1] [2])"
   ]
  },
  {
   "cell_type": "code",
   "execution_count": 16,
   "metadata": {},
   "outputs": [
    {
     "name": "stdout",
     "output_type": "stream",
     "text": [
      "[ 6  7  8  9 10 11 12 13 14 15]\n",
      "[[11 12 13]\n",
      " [14 16 17]\n",
      " [18 19 20]]\n"
     ]
    }
   ],
   "source": [
    "print(mat1D + 5)\n",
    "\n",
    "print(mat2D + 10)"
   ]
  },
  {
   "cell_type": "code",
   "execution_count": 20,
   "metadata": {},
   "outputs": [
    {
     "name": "stdout",
     "output_type": "stream",
     "text": [
      "(10,)\n",
      "(3, 3)\n"
     ]
    }
   ],
   "source": [
    "print(mat1D.shape)\n",
    "print(mat2D.shape)"
   ]
  },
  {
   "cell_type": "code",
   "execution_count": 21,
   "metadata": {},
   "outputs": [
    {
     "name": "stdout",
     "output_type": "stream",
     "text": [
      "10\n",
      "9\n"
     ]
    }
   ],
   "source": [
    "print(mat1D.size)\n",
    "print(mat2D.size)"
   ]
  },
  {
   "cell_type": "code",
   "execution_count": 49,
   "metadata": {},
   "outputs": [],
   "source": [
    "#special matrix\n",
    "mZero = np.zeros((3,3))\n",
    "mIdentity = np.eye((4))\n",
    "mFull = np.full((4,4),7)\n",
    "mOne = np.ones((5,4))\n",
    "mRandomFloat = np.random.rand(5,5)\n",
    "mRandomInt = np.random.randint(10,101, size = 9)"
   ]
  },
  {
   "cell_type": "code",
   "execution_count": 32,
   "metadata": {},
   "outputs": [
    {
     "name": "stdout",
     "output_type": "stream",
     "text": [
      "[[0. 0. 0.]\n",
      " [0. 0. 0.]\n",
      " [0. 0. 0.]]\n"
     ]
    }
   ],
   "source": [
    "print(mZero)"
   ]
  },
  {
   "cell_type": "code",
   "execution_count": 34,
   "metadata": {},
   "outputs": [
    {
     "name": "stdout",
     "output_type": "stream",
     "text": [
      "[[1. 0. 0. 0.]\n",
      " [0. 1. 0. 0.]\n",
      " [0. 0. 1. 0.]\n",
      " [0. 0. 0. 1.]]\n"
     ]
    }
   ],
   "source": [
    "print(mIdentity)"
   ]
  },
  {
   "cell_type": "code",
   "execution_count": 35,
   "metadata": {},
   "outputs": [
    {
     "name": "stdout",
     "output_type": "stream",
     "text": [
      "[[7 7 7 7]\n",
      " [7 7 7 7]\n",
      " [7 7 7 7]\n",
      " [7 7 7 7]]\n"
     ]
    }
   ],
   "source": [
    "print(mFull)"
   ]
  },
  {
   "cell_type": "code",
   "execution_count": 37,
   "metadata": {},
   "outputs": [
    {
     "name": "stdout",
     "output_type": "stream",
     "text": [
      "[[1. 1. 1. 1.]\n",
      " [1. 1. 1. 1.]\n",
      " [1. 1. 1. 1.]\n",
      " [1. 1. 1. 1.]\n",
      " [1. 1. 1. 1.]]\n"
     ]
    }
   ],
   "source": [
    "print(mOne)"
   ]
  },
  {
   "cell_type": "code",
   "execution_count": 53,
   "metadata": {},
   "outputs": [
    {
     "name": "stdout",
     "output_type": "stream",
     "text": [
      "[[0.2457378  0.66099238 0.49909823 0.84110493 0.66265425]\n",
      " [0.83798555 0.88709805 0.01069593 0.74299264 0.66269225]\n",
      " [0.92687218 0.07090517 0.02829833 0.55398408 0.61409887]\n",
      " [0.87343366 0.71213028 0.03668332 0.16983054 0.04415226]\n",
      " [0.48302534 0.05499949 0.54421099 0.54408425 0.03196469]]\n"
     ]
    }
   ],
   "source": [
    "print(mRandomFloat)"
   ]
  },
  {
   "cell_type": "code",
   "execution_count": 50,
   "metadata": {},
   "outputs": [
    {
     "name": "stdout",
     "output_type": "stream",
     "text": [
      "[89 57 75 34 55 41 48 32 17]\n"
     ]
    }
   ],
   "source": [
    "print(mRandomInt)"
   ]
  },
  {
   "cell_type": "code",
   "execution_count": 75,
   "metadata": {},
   "outputs": [
    {
     "name": "stdout",
     "output_type": "stream",
     "text": [
      "Hasil dari dot product: 83\n",
      "Hasil dari penjumlahan matriks: [ 4 12 10  8  8  7]\n",
      "Nilai terkecil dari matriks [2 6 9 1 5 3]: 1\n",
      "Nilai terbesar dari matrriks [2 6 1 7 3 4]: 7\n",
      "Nilai rata-rata dari matrriks [2 6 1 7 3 4]: 3.8333333333333335\n",
      "Nilai tengah dari matriks [2 6 1 7 3 4]: 3.5\n",
      "Nilai deviasi dari [2 6 1 7 3 4]: 2.1147629234082532\n"
     ]
    }
   ],
   "source": [
    "x = np.array([2,6,9,1,5,3])\n",
    "y = np.array([2,6,1,7,3,4])\n",
    "\n",
    "dotProduct = np.dot(x,y)\n",
    "addMat = np.add(x,y)\n",
    "minValue = np.min(x)\n",
    "maxValue = np.max(y)\n",
    "meanValue = np.mean(y)\n",
    "medianValue = np.median(y)\n",
    "stdValue = np.std(y)\n",
    "\n",
    "print(f\"Hasil dari dot product: {dotProduct}\")\n",
    "print(f\"Hasil dari penjumlahan matriks: {addMat}\")\n",
    "print(f\"Nilai terkecil dari matriks {x}: {minValue}\")\n",
    "print(f\"Nilai terbesar dari matrriks {y}: {maxValue}\")\n",
    "print(f\"Nilai rata-rata dari matrriks {y}: {meanValue}\")\n",
    "print(f\"Nilai tengah dari matriks {y}: {medianValue}\")\n",
    "print(f\"Nilai deviasi dari {y}: {stdValue}\")"
   ]
  },
  {
   "cell_type": "code",
   "execution_count": 74,
   "metadata": {},
   "outputs": [
    {
     "name": "stdout",
     "output_type": "stream",
     "text": [
      "[[1 2]\n",
      " [3 4]\n",
      " [5 6]]\n",
      "[1 2 3 4 5 6]\n"
     ]
    }
   ],
   "source": [
    "myArray = np.array([[1,2,3],[4,5,6]])\n",
    "\n",
    "reshape = myArray.reshape(3,2)\n",
    "flatten = myArray.flatten()\n",
    "\n",
    "print(reshape)\n",
    "print(flatten)"
   ]
  },
  {
   "cell_type": "code",
   "execution_count": 78,
   "metadata": {},
   "outputs": [
    {
     "name": "stdout",
     "output_type": "stream",
     "text": [
      "[ 80  90  70  80  85 100  55  95]\n",
      "8\n"
     ]
    }
   ],
   "source": [
    "#filtering\n",
    "nilaiSiswa = np.array([80,90,50,70,80,85,100,55,95])\n",
    "lulus = nilaiSiswa[nilaiSiswa > 50]\n",
    "jumlah = lulus.size\n",
    "print(lulus)\n",
    "print(jumlah)"
   ]
  }
 ],
 "metadata": {
  "kernelspec": {
   "display_name": "Python 3",
   "language": "python",
   "name": "python3"
  },
  "language_info": {
   "codemirror_mode": {
    "name": "ipython",
    "version": 3
   },
   "file_extension": ".py",
   "mimetype": "text/x-python",
   "name": "python",
   "nbconvert_exporter": "python",
   "pygments_lexer": "ipython3",
   "version": "3.12.10"
  }
 },
 "nbformat": 4,
 "nbformat_minor": 2
}
