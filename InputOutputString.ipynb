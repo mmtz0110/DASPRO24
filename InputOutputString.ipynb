{
 "cells": [
  {
   "cell_type": "markdown",
   "id": "9f54dbb3-39b2-41f2-bb5d-c84c6d9a6094",
   "metadata": {},
   "source": [
    "<h1>INPUT</h1>"
   ]
  },
  {
   "cell_type": "code",
   "execution_count": 1,
   "id": "81c2a75e-2b5f-49dc-8907-fa1a6445da93",
   "metadata": {},
   "outputs": [
    {
     "name": "stdin",
     "output_type": "stream",
     "text": [
      "Masukan nama anda:  Agnaya\n"
     ]
    },
    {
     "name": "stdout",
     "output_type": "stream",
     "text": [
      "Agnaya\n"
     ]
    }
   ],
   "source": [
    "#menginput variabel\n",
    "nama = input(\"Masukan nama anda: \")\n",
    "\n",
    "#output dari input yg baru saja dimasukan\n",
    "print(nama)"
   ]
  },
  {
   "cell_type": "markdown",
   "id": "0bd53f91-7b5c-430e-8a1d-f9bdd7dfc4e1",
   "metadata": {},
   "source": [
    "<h1>OUTPUT</h1>"
   ]
  },
  {
   "cell_type": "code",
   "execution_count": 2,
   "id": "225a0df4-eadc-4239-89c9-9b8ff8f7f906",
   "metadata": {},
   "outputs": [
    {
     "name": "stdout",
     "output_type": "stream",
     "text": [
      "Hello Daspro !\n"
     ]
    }
   ],
   "source": [
    "print(\"Hello Daspro !\")"
   ]
  },
  {
   "cell_type": "markdown",
   "id": "ac052817-b925-4e36-b6ad-7047a9f35d5e",
   "metadata": {},
   "source": [
    "<h1>FUNGSI len()</h1>"
   ]
  },
  {
   "cell_type": "code",
   "execution_count": 3,
   "id": "303de38b-f39a-4a46-9f96-f482f35614d8",
   "metadata": {},
   "outputs": [
    {
     "name": "stdout",
     "output_type": "stream",
     "text": [
      "7\n"
     ]
    }
   ],
   "source": [
    "teks = \"Jupyter\"\n",
    "print(len(teks))"
   ]
  },
  {
   "cell_type": "markdown",
   "id": "48c18500-9916-4a7c-b986-cdd892004d77",
   "metadata": {},
   "source": [
    "<h1>FUNGSI upper()</h1>"
   ]
  },
  {
   "cell_type": "code",
   "execution_count": 6,
   "id": "536f2bd6-8832-4d4d-bdd1-c4576c7f1d2c",
   "metadata": {},
   "outputs": [
    {
     "name": "stdout",
     "output_type": "stream",
     "text": [
      "JUPYTER\n"
     ]
    }
   ],
   "source": [
    "teks = \"jupyter\"\n",
    "print(teks.upper())"
   ]
  },
  {
   "cell_type": "markdown",
   "id": "dd15b470-2c3d-4b52-b12b-49d22fd25428",
   "metadata": {},
   "source": [
    "<h1>FUNGSI lower()</h1>"
   ]
  },
  {
   "cell_type": "code",
   "execution_count": 7,
   "id": "45d0d30e-2ca3-4968-9d53-a86bdf48f683",
   "metadata": {},
   "outputs": [
    {
     "name": "stdout",
     "output_type": "stream",
     "text": [
      "jupyter\n"
     ]
    }
   ],
   "source": [
    "teks = \"JUPYTER\"\n",
    "print(teks.lower())"
   ]
  },
  {
   "cell_type": "markdown",
   "id": "ed329a36-e40a-4abe-bfc8-a7ba1ae0dd07",
   "metadata": {},
   "source": [
    "<h1>FUNGSI join()</h1>"
   ]
  },
  {
   "cell_type": "code",
   "execution_count": 8,
   "id": "8934fd45-7fb9-4926-b7e5-98de6ca2ad52",
   "metadata": {},
   "outputs": [
    {
     "name": "stdout",
     "output_type": "stream",
     "text": [
      "Belajar Pemrograman Itu Menyenangkan\n",
      "The history saving thread hit an unexpected error (OperationalError('attempt to write a readonly database')).History will not be written to the database.\n"
     ]
    }
   ],
   "source": [
    "teks = [\"Belajar\",\"Pemrograman\",\"Itu\",\"Menyenangkan\"]\n",
    "output = \" \".join(teks)\n",
    "print(output)"
   ]
  },
  {
   "cell_type": "markdown",
   "id": "d962f743-fded-42fa-a2b2-c821de093cf8",
   "metadata": {},
   "source": [
    "<h1>FUNGSI replace()</h1>"
   ]
  },
  {
   "cell_type": "code",
   "execution_count": 10,
   "id": "3ddd1a41-f31c-4850-82f8-3860ec0050ad",
   "metadata": {},
   "outputs": [
    {
     "name": "stdout",
     "output_type": "stream",
     "text": [
      "Aku suka python\n"
     ]
    }
   ],
   "source": [
    "teks = \"Aku suka java\"\n",
    "print(teks.replace(\"java\",\"python\"))"
   ]
  },
  {
   "cell_type": "markdown",
   "id": "80f9d9a8-a701-49ef-ad85-d025d16ee793",
   "metadata": {},
   "source": [
    "<h1>FUNGSI split()</h1>"
   ]
  },
  {
   "cell_type": "code",
   "execution_count": 11,
   "id": "631d2396-1ba6-4064-91b4-d6b4ceb7ce77",
   "metadata": {},
   "outputs": [
    {
     "name": "stdout",
     "output_type": "stream",
     "text": [
      "['apel', 'jeruk', 'mangga']\n"
     ]
    }
   ],
   "source": [
    "teks = \"apel, jeruk, mangga\"\n",
    "buah = teks.split(\", \")\n",
    "print(buah)"
   ]
  },
  {
   "cell_type": "markdown",
   "id": "5d4c6fea-5460-476b-bce9-ea5a63439d8a",
   "metadata": {},
   "source": [
    "<h1>FUNGSI find()</h1>"
   ]
  },
  {
   "cell_type": "code",
   "execution_count": 13,
   "id": "b62a98f8-d817-4686-b565-075aca4856fe",
   "metadata": {},
   "outputs": [
    {
     "name": "stdout",
     "output_type": "stream",
     "text": [
      "8\n",
      "-1\n"
     ]
    }
   ],
   "source": [
    "teks = \"Belajar Python\"\n",
    "print(teks.find(\"Python\"))\n",
    "print(teks.find(\"Java\"))"
   ]
  },
  {
   "cell_type": "code",
   "execution_count": null,
   "id": "be062a33-72fa-43de-a677-6ee1aa3561b5",
   "metadata": {},
   "outputs": [],
   "source": []
  }
 ],
 "metadata": {
  "kernelspec": {
   "display_name": "Python 3 (ipykernel)",
   "language": "python",
   "name": "python3"
  },
  "language_info": {
   "codemirror_mode": {
    "name": "ipython",
    "version": 3
   },
   "file_extension": ".py",
   "mimetype": "text/x-python",
   "name": "python",
   "nbconvert_exporter": "python",
   "pygments_lexer": "ipython3",
   "version": "3.13.2"
  }
 },
 "nbformat": 4,
 "nbformat_minor": 5
}
